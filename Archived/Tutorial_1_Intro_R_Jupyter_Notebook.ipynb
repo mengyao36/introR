{
  "nbformat": 4,
  "nbformat_minor": 0,
  "metadata": {
    "kernelspec": {
      "display_name": "R (system-wide)",
      "language": "r",
      "metadata": {
        "cocalc": {
          "description": "R statistical programming language",
          "priority": 10,
          "url": "https://www.r-project.org/"
        }
      },
      "name": "ir",
      "resource_dir": "/ext/jupyter/kernels/ir"
    },
    "language_info": {
      "codemirror_mode": "r",
      "file_extension": ".r",
      "mimetype": "text/x-r-source",
      "name": "R",
      "pygments_lexer": "r",
      "version": "4.0.5"
    },
    "colab": {
      "provenance": [],
      "collapsed_sections": []
    }
  },
  "cells": [
    {
      "cell_type": "markdown",
      "metadata": {
        "collapsed": false,
        "id": "g-1EX1EjUnB_"
      },
      "source": [
        "# Tutorial 1: Introduction to R\n",
        "### Summer School in Statistics for Astronomers XVII, June 2022  \n",
        "### Instructor: Eric Feigelson (Center for Astrostatistics, Penn State University)"
      ]
    },
    {
      "cell_type": "markdown",
      "metadata": {
        "collapsed": false,
        "id": "_FCJFBrqUnCG"
      },
      "source": [
        "R is a powerful software environment for data analysis, graphics, and especially statistical analysis. It is available free to the public at www.r-project.org with easily installed binaries for Linux, MacOS and Windows.  This notebook provides an introduction to R designed for students and researchers in astronomy.  No previous experience is needed, although some familiarity with scripting languages like Matlab or IDL is helpful.  "
      ]
    },
    {
      "cell_type": "markdown",
      "metadata": {
        "collapsed": false,
        "id": "f4ZwVqeEUnCH"
      },
      "source": [
        "### Running the Jupyter notebooks \n",
        "\n",
        "During the Summer School, we are running these Jupyter notebooks in Google's Colaboratory environment [here](https://colab.research.google.com/drive/1iz6ILnVGt8Qc6UR1l7oTPou4l6WSrw9S?usp=sharing).  To run them here, click the **Connect** button in the upper-right section of the page.  When you encounter a Jupyter cell with an R script, click the black circle with arrow button to run the code. You are encouraged to investigate options and learn further by editing the script; again click the black circle to run the cell. \n",
        "\n",
        "You can also run them in Python on your local computer; Python's *anaconda* distribution and *conda* package management system automatically include Jupyter Notebooks as an application accessed through the *Anaconda Navigator*.  However, it is possible that your Anaconda release did not automatically include the R kernel for Jupyter.  You can tell whether it is present if the R logo (blue R in front of gray ellipse) is shown at the top-right of the Jupyter page.  If it is missing, then the code cells below will fail upon execution. To install the R kernel within Python, type: **conda install -c r r-irkernel**.  Alternatively, you can make R available to Jupyter from an R console by typing: **install.packages('IRkernel')  ;  IRkernel::installspec()**.  For further discussion of the relationship between Python, R, Jupyter and other notebook environments, see [here](https://www.datacamp.com/community/blog/jupyter-notebook-r). "
      ]
    },
    {
      "cell_type": "markdown",
      "metadata": {
        "collapsed": false,
        "id": "W9c2hitGUnCH"
      },
      "source": [
        "Some basic operational information:\n",
        "- R is driven by the command line in the R console.  Double-click the R icon or (in Linux) type 'R' in the terminal to open the console. \n",
        "- R has >100,000 'functions' that perform various tasks. Each function uses () brackets to list arguments and parameters.  \n",
        "- Every function has a 'help(fn)' page telling how it is used, what operation is run, and what output it produces with references and examples that can be cut-and-paste into an R console. It is essential for both novice and experienced R programmers to read help files.\n",
        "- A hash mark ( # ) denotes comments in an R script.  A semi-colon ( ; ) has the same action as a carriage return\n",
        "- The commands in the Summer School tutorials can be run interactively in Jupyter, or cut-and-pasted into a separate R console."
      ]
    },
    {
      "cell_type": "markdown",
      "source": [
        "****\n",
        "\n",
        "**In Section I** we examine and set up our software environment. *sessionInfo()* tells the operating system, and basic pre-installed packages. Try this both in Google Colaboratory and on your local R console.  *getwd()* and *setwd()* are commonly used functions at the beginning of a session -- *wd* stands for 'working directory'.  Google Colaboratory does not allow changing directories, but you will want to create a directory for our Summer School work on your local computer.  *library()* pops up a new window listing the CRAN packages currently available to you.  Remember there are ~19000 more!  Finally, we run *citation()* that gives the citation to R for publications. Every CRAN package has a corresponding *citation(package)* that should be used for publications."
      ],
      "metadata": {
        "id": "96opTdEahmMu"
      }
    },
    {
      "cell_type": "code",
      "metadata": {
        "id": "rrFK4kPWUnCI",
        "collapsed": true,
        "colab": {
          "base_uri": "https://localhost:8080/",
          "height": 492
        },
        "outputId": "b32200f3-aee8-45cd-9cc4-b7050cb47a42"
      },
      "source": [
        "# I.  Set up your session\n",
        "\n",
        "sessionInfo()  "
      ],
      "execution_count": 1,
      "outputs": [
        {
          "output_type": "display_data",
          "data": {
            "text/plain": [
              "R version 4.2.1 (2022-06-23)\n",
              "Platform: x86_64-pc-linux-gnu (64-bit)\n",
              "Running under: Ubuntu 18.04.6 LTS\n",
              "\n",
              "Matrix products: default\n",
              "BLAS:   /usr/lib/x86_64-linux-gnu/openblas/libblas.so.3\n",
              "LAPACK: /usr/lib/x86_64-linux-gnu/libopenblasp-r0.2.20.so\n",
              "\n",
              "locale:\n",
              " [1] LC_CTYPE=en_US.UTF-8       LC_NUMERIC=C              \n",
              " [3] LC_TIME=en_US.UTF-8        LC_COLLATE=en_US.UTF-8    \n",
              " [5] LC_MONETARY=en_US.UTF-8    LC_MESSAGES=en_US.UTF-8   \n",
              " [7] LC_PAPER=en_US.UTF-8       LC_NAME=C                 \n",
              " [9] LC_ADDRESS=C               LC_TELEPHONE=C            \n",
              "[11] LC_MEASUREMENT=en_US.UTF-8 LC_IDENTIFICATION=C       \n",
              "\n",
              "attached base packages:\n",
              "[1] stats     graphics  grDevices utils     datasets  methods   base     \n",
              "\n",
              "loaded via a namespace (and not attached):\n",
              " [1] fansi_1.0.3     crayon_1.5.2    digest_0.6.29   utf8_1.2.2     \n",
              " [5] IRdisplay_1.1   repr_1.1.4      lifecycle_1.0.3 jsonlite_1.8.2 \n",
              " [9] evaluate_0.17   pillar_1.8.1    rlang_1.0.6     cli_3.4.1      \n",
              "[13] uuid_1.1-0      vctrs_0.4.2     IRkernel_1.3    tools_4.2.1    \n",
              "[17] glue_1.6.2      fastmap_1.1.0   compiler_4.2.1  base64enc_0.1-3\n",
              "[21] pbdZMQ_0.3-7    htmltools_0.5.3"
            ]
          },
          "metadata": {}
        }
      ]
    },
    {
      "cell_type": "code",
      "source": [
        "getwd()                     # find working directory.  \n",
        "#setwd('/Users/ericfeigelson/Desktop/Rdir')  # set working directory if you run \n",
        "                                             # locally on your computer\n",
        "#getwd()                     # see the working directory has changed"
      ],
      "metadata": {
        "id": "NJJBawVQjKaP",
        "colab": {
          "base_uri": "https://localhost:8080/",
          "height": 34
        },
        "outputId": "eacb3e2a-eb68-4982-fbb7-f18968ad188c"
      },
      "execution_count": 2,
      "outputs": [
        {
          "output_type": "display_data",
          "data": {
            "text/html": [
              "'/content'"
            ],
            "text/markdown": "'/content'",
            "text/latex": "'/content'",
            "text/plain": [
              "[1] \"/content\""
            ]
          },
          "metadata": {}
        }
      ]
    },
    {
      "cell_type": "code",
      "metadata": {
        "id": "RV6FEm_xUnCJ",
        "colab": {
          "base_uri": "https://localhost:8080/",
          "height": 401
        },
        "outputId": "b26b5c15-94c8-4be5-a094-2a85e1118e1a"
      },
      "source": [
        "library()                   # see packages installed on your computer\n",
        "                            # ~30 are installed automatically with R\n",
        "citation()                  # quote this citation in any publication using R"
      ],
      "execution_count": 3,
      "outputs": [
        {
          "output_type": "display_data",
          "data": {
            "text/plain": [
              "\n",
              "To cite R in publications use:\n",
              "\n",
              "  R Core Team (2022). R: A language and environment for statistical\n",
              "  computing. R Foundation for Statistical Computing, Vienna, Austria.\n",
              "  URL https://www.R-project.org/.\n",
              "\n",
              "A BibTeX entry for LaTeX users is\n",
              "\n",
              "  @Manual{,\n",
              "    title = {R: A Language and Environment for Statistical Computing},\n",
              "    author = {{R Core Team}},\n",
              "    organization = {R Foundation for Statistical Computing},\n",
              "    address = {Vienna, Austria},\n",
              "    year = {2022},\n",
              "    url = {https://www.R-project.org/},\n",
              "  }\n",
              "\n",
              "We have invested a lot of time and effort in creating R, please cite it\n",
              "when using it for data analysis. See also ‘citation(\"pkgname\")’ for\n",
              "citing R packages.\n"
            ]
          },
          "metadata": {}
        }
      ]
    },
    {
      "cell_type": "markdown",
      "source": [
        "****\n",
        "\n",
        "**Section II** creates a simple R object -- a vector of four integers -- and functions that tell its characteristics.  *ls()* is useful to see what objects are in your current session.  The *str* function is very useful for seeing the structure of complex R objects produced by advanced statistical functions. Note that the content of an object is displayed on the console by just stating its name; no *print* or *show* command is needed. The *cat* function gives a more elegant way to display on the console. \n",
        "\n",
        "*write* and *save* bring R objects out of your session onto your disk in ASCII and binary formats respectively. CRAN package *FITSio* provides output in astronomers' FITS format.   \n",
        "\n",
        "R vectors and arrays start at index 1, unlike Python where the first element has index 0.  This incompatibility can complicate programs that entangle the two languages.  It is very useful to [link text](https://)"
      ],
      "metadata": {
        "id": "7WdmwwGSjWE_"
      }
    },
    {
      "cell_type": "code",
      "metadata": {
        "id": "cqdb23DtUnCJ",
        "colab": {
          "base_uri": "https://localhost:8080/",
          "height": 176
        },
        "outputId": "3394d753-c05e-42fc-f204-d5a4a39e7c5b"
      },
      "source": [
        "# II. Create and characterize a vector\n",
        "\n",
        "a <- c(33, 44, 92, 58)      # combine numbers into a vector\n",
        "length(a)\n",
        "sum(a)\n",
        "median(a)  ;  mad(a)\n",
        "ls()                        # list names of objects in your environment\n",
        "class(a)                    # state the `class' of an R object (described in III below)\n",
        "str(a)                      # state the structure of an R object\n",
        "summary(a)                  # many R objects have a built-in 'summary' function"
      ],
      "execution_count": 4,
      "outputs": [
        {
          "output_type": "display_data",
          "data": {
            "text/html": [
              "4"
            ],
            "text/markdown": "4",
            "text/latex": "4",
            "text/plain": [
              "[1] 4"
            ]
          },
          "metadata": {}
        },
        {
          "output_type": "display_data",
          "data": {
            "text/html": [
              "227"
            ],
            "text/markdown": "227",
            "text/latex": "227",
            "text/plain": [
              "[1] 227"
            ]
          },
          "metadata": {}
        },
        {
          "output_type": "display_data",
          "data": {
            "text/html": [
              "51"
            ],
            "text/markdown": "51",
            "text/latex": "51",
            "text/plain": [
              "[1] 51"
            ]
          },
          "metadata": {}
        },
        {
          "output_type": "display_data",
          "data": {
            "text/html": [
              "18.5325"
            ],
            "text/markdown": "18.5325",
            "text/latex": "18.5325",
            "text/plain": [
              "[1] 18.5325"
            ]
          },
          "metadata": {}
        },
        {
          "output_type": "display_data",
          "data": {
            "text/html": [
              "'a'"
            ],
            "text/markdown": "'a'",
            "text/latex": "'a'",
            "text/plain": [
              "[1] \"a\""
            ]
          },
          "metadata": {}
        },
        {
          "output_type": "display_data",
          "data": {
            "text/html": [
              "'numeric'"
            ],
            "text/markdown": "'numeric'",
            "text/latex": "'numeric'",
            "text/plain": [
              "[1] \"numeric\""
            ]
          },
          "metadata": {}
        },
        {
          "output_type": "stream",
          "name": "stdout",
          "text": [
            " num [1:4] 33 44 92 58\n"
          ]
        },
        {
          "output_type": "display_data",
          "data": {
            "text/plain": [
              "   Min. 1st Qu.  Median    Mean 3rd Qu.    Max. \n",
              "  33.00   41.25   51.00   56.75   66.50   92.00 "
            ]
          },
          "metadata": {}
        }
      ]
    },
    {
      "cell_type": "code",
      "metadata": {
        "id": "I3ZS9Gf-UnCK",
        "colab": {
          "base_uri": "https://localhost:8080/",
          "height": 53
        },
        "outputId": "27aac210-cec7-4d48-cb47-f9ee7631fd92"
      },
      "source": [
        "a                           # display the contents of an R object on the console\n",
        "# Annotated write to console. The \\n symbol is a carriage return.\n",
        "cat('Sum of ', length(a), ' elements in the vector a = ', sum(a), '\\n')\n",
        "\n",
        "write(file='output', a)     # write an ASCII file into the working directory\n",
        "save(file='output_bin', a)  # write a binary file\n",
        "save(file='output_bin', a)  # error because 'Save' is not a known function.\n",
        "                            # R syntax is case sensitive."
      ],
      "execution_count": 5,
      "outputs": [
        {
          "output_type": "display_data",
          "data": {
            "text/html": [
              "<style>\n",
              ".list-inline {list-style: none; margin:0; padding: 0}\n",
              ".list-inline>li {display: inline-block}\n",
              ".list-inline>li:not(:last-child)::after {content: \"\\00b7\"; padding: 0 .5ex}\n",
              "</style>\n",
              "<ol class=list-inline><li>33</li><li>44</li><li>92</li><li>58</li></ol>\n"
            ],
            "text/markdown": "1. 33\n2. 44\n3. 92\n4. 58\n\n\n",
            "text/latex": "\\begin{enumerate*}\n\\item 33\n\\item 44\n\\item 92\n\\item 58\n\\end{enumerate*}\n",
            "text/plain": [
              "[1] 33 44 92 58"
            ]
          },
          "metadata": {}
        },
        {
          "output_type": "stream",
          "name": "stdout",
          "text": [
            "Sum of  4  elements in the vector a =  227 \n"
          ]
        }
      ]
    },
    {
      "cell_type": "code",
      "metadata": {
        "id": "1rmy1In3UnCL",
        "colab": {
          "base_uri": "https://localhost:8080/",
          "height": 121
        },
        "outputId": "3b54d2d1-edb9-45ac-a55f-444adc4fe2c1"
      },
      "source": [
        "# Manipulation of vector indices\n",
        "\n",
        "a[1:4]          # show all four elements of the vector\n",
        "a[3]            # note that R vectors start with index 1 not 0, unlike Python\n",
        "a > 40          # logical operation\n",
        "sum(a[a>40])    # note the self-referential use of vector/array indices here\n",
        "which.max(a)    # R has many built-in functions for vectors and arrays\n",
        "match(44, a)"
      ],
      "execution_count": 6,
      "outputs": [
        {
          "output_type": "display_data",
          "data": {
            "text/html": [
              "<style>\n",
              ".list-inline {list-style: none; margin:0; padding: 0}\n",
              ".list-inline>li {display: inline-block}\n",
              ".list-inline>li:not(:last-child)::after {content: \"\\00b7\"; padding: 0 .5ex}\n",
              "</style>\n",
              "<ol class=list-inline><li>33</li><li>44</li><li>92</li><li>58</li></ol>\n"
            ],
            "text/markdown": "1. 33\n2. 44\n3. 92\n4. 58\n\n\n",
            "text/latex": "\\begin{enumerate*}\n\\item 33\n\\item 44\n\\item 92\n\\item 58\n\\end{enumerate*}\n",
            "text/plain": [
              "[1] 33 44 92 58"
            ]
          },
          "metadata": {}
        },
        {
          "output_type": "display_data",
          "data": {
            "text/html": [
              "92"
            ],
            "text/markdown": "92",
            "text/latex": "92",
            "text/plain": [
              "[1] 92"
            ]
          },
          "metadata": {}
        },
        {
          "output_type": "display_data",
          "data": {
            "text/html": [
              "<style>\n",
              ".list-inline {list-style: none; margin:0; padding: 0}\n",
              ".list-inline>li {display: inline-block}\n",
              ".list-inline>li:not(:last-child)::after {content: \"\\00b7\"; padding: 0 .5ex}\n",
              "</style>\n",
              "<ol class=list-inline><li>FALSE</li><li>TRUE</li><li>TRUE</li><li>TRUE</li></ol>\n"
            ],
            "text/markdown": "1. FALSE\n2. TRUE\n3. TRUE\n4. TRUE\n\n\n",
            "text/latex": "\\begin{enumerate*}\n\\item FALSE\n\\item TRUE\n\\item TRUE\n\\item TRUE\n\\end{enumerate*}\n",
            "text/plain": [
              "[1] FALSE  TRUE  TRUE  TRUE"
            ]
          },
          "metadata": {}
        },
        {
          "output_type": "display_data",
          "data": {
            "text/html": [
              "194"
            ],
            "text/markdown": "194",
            "text/latex": "194",
            "text/plain": [
              "[1] 194"
            ]
          },
          "metadata": {}
        },
        {
          "output_type": "display_data",
          "data": {
            "text/html": [
              "3"
            ],
            "text/markdown": "3",
            "text/latex": "3",
            "text/plain": [
              "[1] 3"
            ]
          },
          "metadata": {}
        },
        {
          "output_type": "display_data",
          "data": {
            "text/html": [
              "2"
            ],
            "text/markdown": "2",
            "text/latex": "2",
            "text/plain": [
              "[1] 2"
            ]
          },
          "metadata": {}
        }
      ]
    },
    {
      "cell_type": "markdown",
      "metadata": {
        "collapsed": false,
        "id": "4WDGHRRNUnCL"
      },
      "source": [
        "****\n",
        "\n",
        "**Section III** highlights classes and packages.  Base-R places objects into several: numeric, character, logical, vector, matrix, factor, data.frame, list, and dozens of others designed by advanced R functions and CRAN packages. *plot, print, summary* functions are adapted to class objects; see e.g. *methods(summary)*.  \n",
        "\n",
        "Two particularly important classes are the 'data frame' used for tabular data and the 'list' used as a bucket with heterogeneous content.  The data frame is a 2-dimensional array with associated column names. The list class allows a hierarchical structure of R objects such as scalars, vectors, arrays, and attributes.  Here we make a hierarchical list, use 'str' (structure) to show its contents, and access an element of the list using the $ delimiter. "
      ]
    },
    {
      "cell_type": "code",
      "metadata": {
        "id": "KiC-8vHEUnCM",
        "colab": {
          "base_uri": "https://localhost:8080/",
          "height": 416
        },
        "outputId": "a77419ae-0914-4f4f-f9a4-7e6dc6756c8d"
      },
      "source": [
        "# III.  R classes and packages\n",
        "\n",
        "# Make and write a data.frame, a 2D array with column names\n",
        "\n",
        "d <- data.frame(cbind(seq(1:4), a, a^3))  # Bind columns into data frame\n",
        "class(d)\n",
        "names(d) <- c('ID', 'a', 'a_cubed') # Column names for data frame                                         \n",
        "d2 <- d[-4,-1]                            # Remove 4th row and 1st column\n",
        "d ; d2\n",
        "write.table(d, file='d.txt', quote=FALSE, row.names=FALSE)"
      ],
      "execution_count": 7,
      "outputs": [
        {
          "output_type": "display_data",
          "data": {
            "text/html": [
              "'data.frame'"
            ],
            "text/markdown": "'data.frame'",
            "text/latex": "'data.frame'",
            "text/plain": [
              "[1] \"data.frame\""
            ]
          },
          "metadata": {}
        },
        {
          "output_type": "display_data",
          "data": {
            "text/html": [
              "<table class=\"dataframe\">\n",
              "<caption>A data.frame: 4 × 3</caption>\n",
              "<thead>\n",
              "\t<tr><th scope=col>ID</th><th scope=col>a</th><th scope=col>a_cubed</th></tr>\n",
              "\t<tr><th scope=col>&lt;dbl&gt;</th><th scope=col>&lt;dbl&gt;</th><th scope=col>&lt;dbl&gt;</th></tr>\n",
              "</thead>\n",
              "<tbody>\n",
              "\t<tr><td>1</td><td>33</td><td> 35937</td></tr>\n",
              "\t<tr><td>2</td><td>44</td><td> 85184</td></tr>\n",
              "\t<tr><td>3</td><td>92</td><td>778688</td></tr>\n",
              "\t<tr><td>4</td><td>58</td><td>195112</td></tr>\n",
              "</tbody>\n",
              "</table>\n"
            ],
            "text/markdown": "\nA data.frame: 4 × 3\n\n| ID &lt;dbl&gt; | a &lt;dbl&gt; | a_cubed &lt;dbl&gt; |\n|---|---|---|\n| 1 | 33 |  35937 |\n| 2 | 44 |  85184 |\n| 3 | 92 | 778688 |\n| 4 | 58 | 195112 |\n\n",
            "text/latex": "A data.frame: 4 × 3\n\\begin{tabular}{lll}\n ID & a & a\\_cubed\\\\\n <dbl> & <dbl> & <dbl>\\\\\n\\hline\n\t 1 & 33 &  35937\\\\\n\t 2 & 44 &  85184\\\\\n\t 3 & 92 & 778688\\\\\n\t 4 & 58 & 195112\\\\\n\\end{tabular}\n",
            "text/plain": [
              "  ID a  a_cubed\n",
              "1 1  33  35937 \n",
              "2 2  44  85184 \n",
              "3 3  92 778688 \n",
              "4 4  58 195112 "
            ]
          },
          "metadata": {}
        },
        {
          "output_type": "display_data",
          "data": {
            "text/html": [
              "<table class=\"dataframe\">\n",
              "<caption>A data.frame: 3 × 2</caption>\n",
              "<thead>\n",
              "\t<tr><th></th><th scope=col>a</th><th scope=col>a_cubed</th></tr>\n",
              "\t<tr><th></th><th scope=col>&lt;dbl&gt;</th><th scope=col>&lt;dbl&gt;</th></tr>\n",
              "</thead>\n",
              "<tbody>\n",
              "\t<tr><th scope=row>1</th><td>33</td><td> 35937</td></tr>\n",
              "\t<tr><th scope=row>2</th><td>44</td><td> 85184</td></tr>\n",
              "\t<tr><th scope=row>3</th><td>92</td><td>778688</td></tr>\n",
              "</tbody>\n",
              "</table>\n"
            ],
            "text/markdown": "\nA data.frame: 3 × 2\n\n| <!--/--> | a &lt;dbl&gt; | a_cubed &lt;dbl&gt; |\n|---|---|---|\n| 1 | 33 |  35937 |\n| 2 | 44 |  85184 |\n| 3 | 92 | 778688 |\n\n",
            "text/latex": "A data.frame: 3 × 2\n\\begin{tabular}{r|ll}\n  & a & a\\_cubed\\\\\n  & <dbl> & <dbl>\\\\\n\\hline\n\t1 & 33 &  35937\\\\\n\t2 & 44 &  85184\\\\\n\t3 & 92 & 778688\\\\\n\\end{tabular}\n",
            "text/plain": [
              "  a  a_cubed\n",
              "1 33  35937 \n",
              "2 44  85184 \n",
              "3 92 778688 "
            ]
          },
          "metadata": {}
        }
      ]
    },
    {
      "cell_type": "code",
      "metadata": {
        "id": "AEItDAn_UnCM",
        "colab": {
          "base_uri": "https://localhost:8080/",
          "height": 199
        },
        "outputId": "06db6d5e-9b6e-4215-dece-451b5a16a84e"
      },
      "source": [
        "# Make and show a list.\n",
        "\n",
        "b_list <- list(star=c('Sirius', 'Procyon'), SpTy=c('O','B','A'), Hubble_km.s=68)\n",
        "str(b_list)\n",
        "b_list[['SpTy']] = list(subtype=seq(0.1:0.9, by=0.1))\n",
        "str(b_list)\n",
        "b_list$SpTy$subtype[1:3]"
      ],
      "execution_count": 8,
      "outputs": [
        {
          "output_type": "stream",
          "name": "stdout",
          "text": [
            "List of 3\n",
            " $ star       : chr [1:2] \"Sirius\" \"Procyon\"\n",
            " $ SpTy       : chr [1:3] \"O\" \"B\" \"A\"\n",
            " $ Hubble_km.s: num 68\n",
            "List of 3\n",
            " $ star       : chr [1:2] \"Sirius\" \"Procyon\"\n",
            " $ SpTy       :List of 1\n",
            "  ..$ subtype: num [1:10] 0.1 0.2 0.3 0.4 0.5 0.6 0.7 0.8 0.9 1\n",
            " $ Hubble_km.s: num 68\n"
          ]
        },
        {
          "output_type": "display_data",
          "data": {
            "text/html": [
              "<style>\n",
              ".list-inline {list-style: none; margin:0; padding: 0}\n",
              ".list-inline>li {display: inline-block}\n",
              ".list-inline>li:not(:last-child)::after {content: \"\\00b7\"; padding: 0 .5ex}\n",
              "</style>\n",
              "<ol class=list-inline><li>0.1</li><li>0.2</li><li>0.3</li></ol>\n"
            ],
            "text/markdown": "1. 0.1\n2. 0.2\n3. 0.3\n\n\n",
            "text/latex": "\\begin{enumerate*}\n\\item 0.1\n\\item 0.2\n\\item 0.3\n\\end{enumerate*}\n",
            "text/plain": [
              "[1] 0.1 0.2 0.3"
            ]
          },
          "metadata": {}
        }
      ]
    },
    {
      "cell_type": "markdown",
      "metadata": {
        "collapsed": false,
        "id": "tOey_6CGUnCM"
      },
      "source": [
        "The 19,000+ CRAN packages are obtained on-the-fly as you need them. The *install.packages()* function, needed only once in the lifetime of your computer, downloads the chosen package from *https://cloud.r-project.org* or a mirror site.  But the *library()* command is frequently needed to bring the package into the current R session.  \n",
        "\n",
        "There is no useful index of the 19,000+ CRAN packages and their many functions. The collection expanded exponentially during the 2000s and is continues to grow by several packages every day.  Expert volunteers in ~40 statistical areas update lists of CRAN packages in their area; these are accesses on the Web at [CRAN Task Views](https://cran.r-project.org/web/views/). Task Views of particular interest to astronomers include _Bayesian_, _Cluster_, _HighPerformanceComputing_, _MachineLearning_, _Multivariate_, _Optimization_, _Robust_, _Spatial_, _Survival_, and _TimeSeries_. \n",
        "\n",
        "Astronomy-specific packages (e.g. stellar evolutionary tracks, celestial mechanics) are listed in the _ChemPhys_ CRAN Task View. The package _FITSio_ reads astronomical FITS formatted files and headers, converting them into an R list. The package _astrolibR_ is a collection of long-established functionalities useful in astronomical research, translated from the _IDL Astronomy Library_.\n",
        "\n",
        "Unfortunately, the Google Colaboratory does not allow installation of new packages by the user.  So portions of our notebooks are best run by cut-and-paste into an R console on your local computer."
      ]
    },
    {
      "cell_type": "markdown",
      "metadata": {
        "collapsed": false,
        "id": "Uz6Wyl8CUnCN"
      },
      "source": [
        "This is a good moment to examine some R help files.  Try *help(sum)*, *help(cbind)*, and *help(mad)* for functions we have already used.  All R users, both novice and expert, are constantly looking at help files to learn what functions do, the syntax of their use, and related functions. \n",
        "\n",
        "R help files give essential information on all functions in a standard format:  \n",
        "1. The top lines give the package where the function resides and a brief description.  \n",
        "2. _Usage_ gives the list of inputs for the function.  Input parameters with an _=_ have a default and do not need to be specified by the user.  \n",
        "3. _Arguments_ describes these input parameters.  \n",
        "4. _Details_ summarizes the functionality including formulae and algorithms. \n",
        "5. _Value_ gives the output of the function.  Typically the program specifies _outfn <- fn(x,y,z, option='special')_ so the full list of output values are available for use, such as _plot(outfn\\$x, outfn\\$y)_. \n",
        "6. _References_ to published literature where the function is described.\n",
        "7. _See also_ links to R functions with related purpose to the current function.\n",
        "8. _Examples_ show usage of the function, often with a built-in dataset.  Examples in R help files can always be cut-and-pasted into any R console.  "
      ]
    },
    {
      "cell_type": "markdown",
      "source": [
        "****\n",
        "\n",
        "**Section IV** shows that R knows elementary math.\n"
      ],
      "metadata": {
        "id": "VU8gLgEnoPOS"
      }
    },
    {
      "cell_type": "code",
      "metadata": {
        "id": "ut-dA1IMUnCO",
        "colab": {
          "base_uri": "https://localhost:8080/",
          "height": 121
        },
        "outputId": "5c3aa796-0b38-444f-f563-c2939f9e237b"
      },
      "source": [
        "# IV. Arithmetic, algebra, trigonometry, and formatting numerics\n",
        "\n",
        "5 + 10003\n",
        "5-3 ; 5*3 ; 5/3 ; 5^3\n",
        "x <- 5 ; y <- 3\n",
        "x+y "
      ],
      "execution_count": 9,
      "outputs": [
        {
          "output_type": "display_data",
          "data": {
            "text/html": [
              "10008"
            ],
            "text/markdown": "10008",
            "text/latex": "10008",
            "text/plain": [
              "[1] 10008"
            ]
          },
          "metadata": {}
        },
        {
          "output_type": "display_data",
          "data": {
            "text/html": [
              "2"
            ],
            "text/markdown": "2",
            "text/latex": "2",
            "text/plain": [
              "[1] 2"
            ]
          },
          "metadata": {}
        },
        {
          "output_type": "display_data",
          "data": {
            "text/html": [
              "15"
            ],
            "text/markdown": "15",
            "text/latex": "15",
            "text/plain": [
              "[1] 15"
            ]
          },
          "metadata": {}
        },
        {
          "output_type": "display_data",
          "data": {
            "text/html": [
              "1.66666666666667"
            ],
            "text/markdown": "1.66666666666667",
            "text/latex": "1.66666666666667",
            "text/plain": [
              "[1] 1.666667"
            ]
          },
          "metadata": {}
        },
        {
          "output_type": "display_data",
          "data": {
            "text/html": [
              "125"
            ],
            "text/markdown": "125",
            "text/latex": "125",
            "text/plain": [
              "[1] 125"
            ]
          },
          "metadata": {}
        },
        {
          "output_type": "display_data",
          "data": {
            "text/html": [
              "8"
            ],
            "text/markdown": "8",
            "text/latex": "8",
            "text/plain": [
              "[1] 8"
            ]
          },
          "metadata": {}
        }
      ]
    },
    {
      "cell_type": "code",
      "metadata": {
        "id": "wYpS8tY7UnCO",
        "colab": {
          "base_uri": "https://localhost:8080/",
          "height": 104
        },
        "outputId": "9ddd0d4e-74cd-4aa9-dd8c-5480ca1b3f6d"
      },
      "source": [
        "sin(0)  ; sin(pi/2)         # note angles are in radians\n",
        "ang <- seq(0, pi/2, length=30) \n",
        "sin(ang)"
      ],
      "execution_count": 10,
      "outputs": [
        {
          "output_type": "display_data",
          "data": {
            "text/html": [
              "0"
            ],
            "text/markdown": "0",
            "text/latex": "0",
            "text/plain": [
              "[1] 0"
            ]
          },
          "metadata": {}
        },
        {
          "output_type": "display_data",
          "data": {
            "text/html": [
              "1"
            ],
            "text/markdown": "1",
            "text/latex": "1",
            "text/plain": [
              "[1] 1"
            ]
          },
          "metadata": {}
        },
        {
          "output_type": "display_data",
          "data": {
            "text/html": [
              "<style>\n",
              ".list-inline {list-style: none; margin:0; padding: 0}\n",
              ".list-inline>li {display: inline-block}\n",
              ".list-inline>li:not(:last-child)::after {content: \"\\00b7\"; padding: 0 .5ex}\n",
              "</style>\n",
              "<ol class=list-inline><li>0</li><li>0.0541389085854175</li><li>0.108119018423942</li><li>0.161781996552765</li><li>0.214970440211024</li><li>0.267528338529221</li><li>0.31930153013598</li><li>0.370138155339914</li><li>0.419889101560265</li><li>0.46840844069979</li><li>0.515553857177022</li><li>0.561187065362382</li><li>0.605174215193765</li><li>0.647386284781828</li><li>0.687699458853423</li><li>0.725995491923131</li><li>0.762162055127636</li><li>0.796093065705644</li><li>0.827688998156891</li><li>0.856857176167589</li><li>0.883512044446023</li><li>0.907575419670957</li><li>0.928976719816791</li><li>0.947653171182802</li><li>0.963549992519223</li><li>0.976620555710087</li><li>0.986826522541526</li><li>0.99413795715436</li><li>0.998533413851124</li><li>1</li></ol>\n"
            ],
            "text/markdown": "1. 0\n2. 0.0541389085854175\n3. 0.108119018423942\n4. 0.161781996552765\n5. 0.214970440211024\n6. 0.267528338529221\n7. 0.31930153013598\n8. 0.370138155339914\n9. 0.419889101560265\n10. 0.46840844069979\n11. 0.515553857177022\n12. 0.561187065362382\n13. 0.605174215193765\n14. 0.647386284781828\n15. 0.687699458853423\n16. 0.725995491923131\n17. 0.762162055127636\n18. 0.796093065705644\n19. 0.827688998156891\n20. 0.856857176167589\n21. 0.883512044446023\n22. 0.907575419670957\n23. 0.928976719816791\n24. 0.947653171182802\n25. 0.963549992519223\n26. 0.976620555710087\n27. 0.986826522541526\n28. 0.99413795715436\n29. 0.998533413851124\n30. 1\n\n\n",
            "text/latex": "\\begin{enumerate*}\n\\item 0\n\\item 0.0541389085854175\n\\item 0.108119018423942\n\\item 0.161781996552765\n\\item 0.214970440211024\n\\item 0.267528338529221\n\\item 0.31930153013598\n\\item 0.370138155339914\n\\item 0.419889101560265\n\\item 0.46840844069979\n\\item 0.515553857177022\n\\item 0.561187065362382\n\\item 0.605174215193765\n\\item 0.647386284781828\n\\item 0.687699458853423\n\\item 0.725995491923131\n\\item 0.762162055127636\n\\item 0.796093065705644\n\\item 0.827688998156891\n\\item 0.856857176167589\n\\item 0.883512044446023\n\\item 0.907575419670957\n\\item 0.928976719816791\n\\item 0.947653171182802\n\\item 0.963549992519223\n\\item 0.976620555710087\n\\item 0.986826522541526\n\\item 0.99413795715436\n\\item 0.998533413851124\n\\item 1\n\\end{enumerate*}\n",
            "text/plain": [
              " [1] 0.00000000 0.05413891 0.10811902 0.16178200 0.21497044 0.26752834\n",
              " [7] 0.31930153 0.37013816 0.41988910 0.46840844 0.51555386 0.56118707\n",
              "[13] 0.60517422 0.64738628 0.68769946 0.72599549 0.76216206 0.79609307\n",
              "[19] 0.82768900 0.85685718 0.88351204 0.90757542 0.92897672 0.94765317\n",
              "[25] 0.96354999 0.97662056 0.98682652 0.99413796 0.99853341 1.00000000"
            ]
          },
          "metadata": {}
        }
      ]
    },
    {
      "cell_type": "code",
      "metadata": {
        "id": "mGbJ2uXzUnCO",
        "colab": {
          "base_uri": "https://localhost:8080/",
          "height": 104
        },
        "outputId": "2b05a668-8ac0-4497-a278-e322f3501eb4"
      },
      "source": [
        "trunc(12345.6789) ; round(12345.6789)  \n",
        "format(12345.6789, digits=2, scientific=TRUE)   \n",
        "\n",
        "log(20)  ;  log10(20)   # log() in R is base-e. Use log10() for base-10 logarithms."
      ],
      "execution_count": 11,
      "outputs": [
        {
          "output_type": "display_data",
          "data": {
            "text/html": [
              "12345"
            ],
            "text/markdown": "12345",
            "text/latex": "12345",
            "text/plain": [
              "[1] 12345"
            ]
          },
          "metadata": {}
        },
        {
          "output_type": "display_data",
          "data": {
            "text/html": [
              "12346"
            ],
            "text/markdown": "12346",
            "text/latex": "12346",
            "text/plain": [
              "[1] 12346"
            ]
          },
          "metadata": {}
        },
        {
          "output_type": "display_data",
          "data": {
            "text/html": [
              "'1.2e+04'"
            ],
            "text/markdown": "'1.2e+04'",
            "text/latex": "'1.2e+04'",
            "text/plain": [
              "[1] \"1.2e+04\""
            ]
          },
          "metadata": {}
        },
        {
          "output_type": "display_data",
          "data": {
            "text/html": [
              "2.99573227355399"
            ],
            "text/markdown": "2.99573227355399",
            "text/latex": "2.99573227355399",
            "text/plain": [
              "[1] 2.995732"
            ]
          },
          "metadata": {}
        },
        {
          "output_type": "display_data",
          "data": {
            "text/html": [
              "1.30102999566398"
            ],
            "text/markdown": "1.30102999566398",
            "text/latex": "1.30102999566398",
            "text/plain": [
              "[1] 1.30103"
            ]
          },
          "metadata": {}
        }
      ]
    },
    {
      "cell_type": "markdown",
      "metadata": {
        "collapsed": false,
        "id": "1IuCkgR1UnCP"
      },
      "source": [
        "> **Exercise:** Practice R syntax.  Practice with some elementary R functions: arithmetic and algebra, 2-dimensional array manipulation, producing multi-element lists.  Write a brief program exercising program flow control (if, ifelse, when, repeat, break, stop, etc.). Use help files!"
      ]
    },
    {
      "cell_type": "code",
      "source": [
        "# Multiplication Operator\n",
        "a <- 6\n",
        "b <- 8.4\n",
        "print(a*b)"
      ],
      "metadata": {
        "colab": {
          "base_uri": "https://localhost:8080/"
        },
        "id": "Ldq2sB0wH8XV",
        "outputId": "3361d5b8-a63e-4225-9a28-9f0340592eb4"
      },
      "execution_count": 12,
      "outputs": [
        {
          "output_type": "stream",
          "name": "stdout",
          "text": [
            "[1] 50.4\n"
          ]
        }
      ]
    },
    {
      "cell_type": "code",
      "source": [
        "# Linear Regression\n",
        "x <- c(151, 174, 138, 186, 128, 136, 179, 163, 152, 131)\n",
        "y <- c(63, 81, 56, 91, 47, 57, 76, 72, 62, 48)\n",
        "# Apply the lm() function\n",
        "relation <- lm(y~x)\n",
        "print(relation)"
      ],
      "metadata": {
        "colab": {
          "base_uri": "https://localhost:8080/"
        },
        "id": "RcJ_MPgeK93v",
        "outputId": "8d0258df-e374-40ab-f9fa-ffc6d9d16e09"
      },
      "execution_count": 14,
      "outputs": [
        {
          "output_type": "stream",
          "name": "stdout",
          "text": [
            "\n",
            "Call:\n",
            "lm(formula = y ~ x)\n",
            "\n",
            "Coefficients:\n",
            "(Intercept)            x  \n",
            "   -38.4551       0.6746  \n",
            "\n"
          ]
        }
      ]
    },
    {
      "cell_type": "code",
      "source": [
        "# 2-dimensional array manipulation\n",
        "# Create two vectors of different length\n",
        "vector1 <- c(5,9,3)\n",
        "vector2 <- c(10,11,12,13,14,15)\n",
        "# Take these two vectors as input to the array\n",
        "result <- array(c(vector1,vector2),dim = c(3,3,2))\n",
        "print(result)"
      ],
      "metadata": {
        "colab": {
          "base_uri": "https://localhost:8080/"
        },
        "id": "pkQq3WGFIy1x",
        "outputId": "ccef40b4-c741-4e97-ae0d-055bb1eda4ad"
      },
      "execution_count": 13,
      "outputs": [
        {
          "output_type": "stream",
          "name": "stdout",
          "text": [
            ", , 1\n",
            "\n",
            "     [,1] [,2] [,3]\n",
            "[1,]    5   10   13\n",
            "[2,]    9   11   14\n",
            "[3,]    3   12   15\n",
            "\n",
            ", , 2\n",
            "\n",
            "     [,1] [,2] [,3]\n",
            "[1,]    5   10   13\n",
            "[2,]    9   11   14\n",
            "[3,]    3   12   15\n",
            "\n"
          ]
        }
      ]
    },
    {
      "cell_type": "code",
      "source": [
        "# Multi-element lists\n",
        "my_list <- list(letters[1:3], 555, 7:3)\n",
        "my_list"
      ],
      "metadata": {
        "colab": {
          "base_uri": "https://localhost:8080/",
          "height": 97
        },
        "id": "Waun2ya5LtpL",
        "outputId": "c5a4131d-7d64-4c81-aa59-ca9c13d74fe4"
      },
      "execution_count": 15,
      "outputs": [
        {
          "output_type": "display_data",
          "data": {
            "text/html": [
              "<ol>\n",
              "\t<li><style>\n",
              ".list-inline {list-style: none; margin:0; padding: 0}\n",
              ".list-inline>li {display: inline-block}\n",
              ".list-inline>li:not(:last-child)::after {content: \"\\00b7\"; padding: 0 .5ex}\n",
              "</style>\n",
              "<ol class=list-inline><li>'a'</li><li>'b'</li><li>'c'</li></ol>\n",
              "</li>\n",
              "\t<li>555</li>\n",
              "\t<li><style>\n",
              ".list-inline {list-style: none; margin:0; padding: 0}\n",
              ".list-inline>li {display: inline-block}\n",
              ".list-inline>li:not(:last-child)::after {content: \"\\00b7\"; padding: 0 .5ex}\n",
              "</style>\n",
              "<ol class=list-inline><li>7</li><li>6</li><li>5</li><li>4</li><li>3</li></ol>\n",
              "</li>\n",
              "</ol>\n"
            ],
            "text/markdown": "1. 1. 'a'\n2. 'b'\n3. 'c'\n\n\n\n2. 555\n3. 1. 7\n2. 6\n3. 5\n4. 4\n5. 3\n\n\n\n\n\n",
            "text/latex": "\\begin{enumerate}\n\\item \\begin{enumerate*}\n\\item 'a'\n\\item 'b'\n\\item 'c'\n\\end{enumerate*}\n\n\\item 555\n\\item \\begin{enumerate*}\n\\item 7\n\\item 6\n\\item 5\n\\item 4\n\\item 3\n\\end{enumerate*}\n\n\\end{enumerate}\n",
            "text/plain": [
              "[[1]]\n",
              "[1] \"a\" \"b\" \"c\"\n",
              "\n",
              "[[2]]\n",
              "[1] 555\n",
              "\n",
              "[[3]]\n",
              "[1] 7 6 5 4 3\n"
            ]
          },
          "metadata": {}
        }
      ]
    },
    {
      "cell_type": "code",
      "source": [
        "# If statement\n",
        "x <- 5\n",
        "if(x > 0){\n",
        "print(\"Positive number\")\n",
        "}"
      ],
      "metadata": {
        "colab": {
          "base_uri": "https://localhost:8080/"
        },
        "id": "UDCc1TMAMJZP",
        "outputId": "92c44a71-9d80-4989-d610-c100e77055ea"
      },
      "execution_count": 16,
      "outputs": [
        {
          "output_type": "stream",
          "name": "stdout",
          "text": [
            "[1] \"Positive number\"\n"
          ]
        }
      ]
    },
    {
      "cell_type": "code",
      "source": [
        "# if else statement\n",
        "x <- -5\n",
        "if(x > 0){\n",
        "print(\"Non-negative number\")\n",
        "} else {\n",
        "print(\"Negative number\")\n",
        "}"
      ],
      "metadata": {
        "colab": {
          "base_uri": "https://localhost:8080/"
        },
        "id": "r1dlb-GqMSQV",
        "outputId": "08d955e0-1952-41d4-b263-0bd8b011afad"
      },
      "execution_count": 17,
      "outputs": [
        {
          "output_type": "stream",
          "name": "stdout",
          "text": [
            "[1] \"Negative number\"\n"
          ]
        }
      ]
    },
    {
      "cell_type": "code",
      "source": [
        "# Repeat loop\n",
        "x <- 1\n",
        "repeat {\n",
        "print(x)\n",
        "x = x+1\n",
        "if (x == 6){\n",
        "break\n",
        "}\n",
        "}"
      ],
      "metadata": {
        "colab": {
          "base_uri": "https://localhost:8080/"
        },
        "id": "S9AgbiwOMvpx",
        "outputId": "8d6eac9c-889b-47c0-f6b4-fc762bd9a55b"
      },
      "execution_count": 18,
      "outputs": [
        {
          "output_type": "stream",
          "name": "stdout",
          "text": [
            "[1] 1\n",
            "[1] 2\n",
            "[1] 3\n",
            "[1] 4\n",
            "[1] 5\n"
          ]
        }
      ]
    },
    {
      "cell_type": "markdown",
      "source": [
        "****\n",
        "\n",
        "**Section V** shows that R can be used for calculations based on analytical equations from mathematics, physics or astrophysics.  Here we calculate galaxy luminosity distances for a Euclidean and a $\\Lambda$CDM relativistic universe.  This is our first exercise of the *function()* function, allowing the user to create a new procedure for later use.  The content of a new function lies within curly brackets, {}, and can be simple or complicated.   \n",
        "\n",
        "We also have our first experience with R's basic 2-dimensional plotting function, *plot()*.  It is wonderfully useful and flexible giving publication-quality graphics.   For its many option, see help(par) ... the longest help file I know!    "
      ],
      "metadata": {
        "id": "BcMZayxTotlr"
      }
    },
    {
      "cell_type": "code",
      "metadata": {
        "id": "qhrHHou1UnCP",
        "colab": {
          "base_uri": "https://localhost:8080/",
          "height": 69
        },
        "outputId": "0d4534bf-cfea-4746-8262-fe719d5622e0"
      },
      "source": [
        "# V. Astrophysical calculations of galaxy distances \n",
        "\n",
        "# The `function' function: Note how one function uses another\n",
        "# This how R builds new capabilities based on old capabilities in a compact syntax.\n",
        "\n",
        "# First, make a simple calculation without functions: galaxy distances in Mpc for six redshifts  \n",
        "\n",
        "z <- seq(0.0, 0.5, 0.1)\n",
        "z\n",
        "H_0 <- 68  \t \t\t               \t# km/s/Mpc,  Planck value\n",
        "speed.light <- 3.0E5          \t# km/s\n",
        "dist <- speed.light*z / H_0     # in Mpc\n",
        "dist\n",
        "class(dist)"
      ],
      "execution_count": 19,
      "outputs": [
        {
          "output_type": "display_data",
          "data": {
            "text/html": [
              "<style>\n",
              ".list-inline {list-style: none; margin:0; padding: 0}\n",
              ".list-inline>li {display: inline-block}\n",
              ".list-inline>li:not(:last-child)::after {content: \"\\00b7\"; padding: 0 .5ex}\n",
              "</style>\n",
              "<ol class=list-inline><li>0</li><li>0.1</li><li>0.2</li><li>0.3</li><li>0.4</li><li>0.5</li></ol>\n"
            ],
            "text/markdown": "1. 0\n2. 0.1\n3. 0.2\n4. 0.3\n5. 0.4\n6. 0.5\n\n\n",
            "text/latex": "\\begin{enumerate*}\n\\item 0\n\\item 0.1\n\\item 0.2\n\\item 0.3\n\\item 0.4\n\\item 0.5\n\\end{enumerate*}\n",
            "text/plain": [
              "[1] 0.0 0.1 0.2 0.3 0.4 0.5"
            ]
          },
          "metadata": {}
        },
        {
          "output_type": "display_data",
          "data": {
            "text/html": [
              "<style>\n",
              ".list-inline {list-style: none; margin:0; padding: 0}\n",
              ".list-inline>li {display: inline-block}\n",
              ".list-inline>li:not(:last-child)::after {content: \"\\00b7\"; padding: 0 .5ex}\n",
              "</style>\n",
              "<ol class=list-inline><li>0</li><li>441.176470588235</li><li>882.352941176471</li><li>1323.52941176471</li><li>1764.70588235294</li><li>2205.88235294118</li></ol>\n"
            ],
            "text/markdown": "1. 0\n2. 441.176470588235\n3. 882.352941176471\n4. 1323.52941176471\n5. 1764.70588235294\n6. 2205.88235294118\n\n\n",
            "text/latex": "\\begin{enumerate*}\n\\item 0\n\\item 441.176470588235\n\\item 882.352941176471\n\\item 1323.52941176471\n\\item 1764.70588235294\n\\item 2205.88235294118\n\\end{enumerate*}\n",
            "text/plain": [
              "[1]    0.0000  441.1765  882.3529 1323.5294 1764.7059 2205.8824"
            ]
          },
          "metadata": {}
        },
        {
          "output_type": "display_data",
          "data": {
            "text/html": [
              "'numeric'"
            ],
            "text/markdown": "'numeric'",
            "text/latex": "'numeric'",
            "text/plain": [
              "[1] \"numeric\""
            ]
          },
          "metadata": {}
        }
      ]
    },
    {
      "cell_type": "code",
      "metadata": {
        "id": "t-fR30Z6UnCP"
      },
      "source": [
        "# Now, make a more complicated relativistic calculation using new functions.\n",
        "\n",
        "Omega_m <- (0.022068 + 0.12029) / (H_0/100)^2    \n",
        "Omega_Lambda <- 0.6825                    # Planck satellite values\n",
        "\n",
        "E.H0 <- function(redshift) {sqrt(Omega_m*(1+redshift)^3 + Omega_Lambda)}\n",
        "\n",
        "lum.dist <- function(redshift) {  \n",
        "\tluminosity.distance = (speed.light/H_0) * integrate(E.H0, 0, redshift)$value \n",
        "\treturn(luminosity.distance)  }\n",
        "\n",
        "distGR <- Vectorize(lum.dist)(z)"
      ],
      "execution_count": 20,
      "outputs": []
    },
    {
      "cell_type": "code",
      "metadata": {
        "id": "TQOCUjTGUnCP",
        "colab": {
          "base_uri": "https://localhost:8080/",
          "height": 617
        },
        "outputId": "5092217d-607a-4673-b433-704d97c67ddf"
      },
      "source": [
        "# Plot the results\n",
        "# The 'plot' function has extensive options to change format; see 'help(par)'\n",
        "\n",
        "options(jupyter.plot_scale=1)\n",
        "options(repr.plot.width = 7, repr.plot.height = 5)\n",
        "\n",
        "plot(z, distGR, type='l', lty=2, lwd=2, ylab='Distance (Mpc)')\n",
        "lines(z, dist, lty=1, lwd=2)   \n",
        "legend(0.0, 2500, lty=c(1,2), lwd=c(2,2), title='Galaxy distances', \n",
        "     \tlegend=c('Euclidean', expression(Lambda*CDM)))"
      ],
      "execution_count": 21,
      "outputs": [
        {
          "output_type": "display_data",
          "data": {
            "text/plain": [
              "plot without title"
            ],
            "image/png": "[encoded data removed]"
          },
          "metadata": {
            "image/png": {
              "width": 840,
              "height": 600
            }
          }
        }
      ]
    },
    {
      "cell_type": "markdown",
      "metadata": {
        "collapsed": false,
        "id": "kT9aRCNHUnCQ"
      },
      "source": [
        "> **Exercise** Integrate an astrophysical function.  Estimate the age of the Universe as a function of redshift for a standard $\\Lambda$CDM universe model: \n",
        "$$ t(z) = H_0^{-1} \\int_{z}^{\\infty}\\frac{dz'}{(1+z')h(z')} $$ \n",
        "where $ h(z) = \\sqrt{(1-\\Omega_{total})(1+z)^2 + \\Omega_m(1+z)^3 + \\Omega_{\\Lambda} } $, $\\Omega_m$ is the matter density parameter, and $\\Omega_{\\Lambda}$ is the dark energy density parameter. Plot the age of the Universe vs. redshift ($z=0$ to 10) for three hypothetical universes: matter-dominated ($\\Omega_m=1.0$ and $\\Omega_{\\Lambda}=0.0$), dark-energy-dominated ($\\Omega_m=0.01$ and $\\Omega_{\\Lambda}=0.99$), and a realistic universe ($\\Omega_m=0.31$ and $\\Omega_{\\Lambda}=0.69$).  This problem and solution is courtesy of graduate student Phoebe Sandhaus, Penn State."
      ]
    },
    {
      "cell_type": "code",
      "source": [
        "# The exericse example is too complicated, try to use the plot function for something else\n",
        "plot(sin, -pi, 2*pi)"
      ],
      "metadata": {
        "colab": {
          "base_uri": "https://localhost:8080/",
          "height": 617
        },
        "id": "esEdd8ijNrbG",
        "outputId": "b1f8157b-b9df-47bf-9604-8867d052753d"
      },
      "execution_count": 22,
      "outputs": [
        {
          "output_type": "display_data",
          "data": {
            "text/plain": [
              "plot without title"
            ],
            "image/png": "[encoded data removed]"
          },
          "metadata": {
            "image/png": {
              "width": 840,
              "height": 600
            }
          }
        }
      ]
    },
    {
      "cell_type": "code",
      "source": [
        "# Plot a linear regression\n",
        "height <- c(176, 154, 138, 196, 132, 176, 181, 169, 150, 175)\n",
        "bodymass <- c(82, 49, 53, 112, 47, 69, 77, 71, 62, 78)\n",
        "height\n",
        "bodymass\n",
        "# Create a simple plot of the two variables \n",
        "plot(bodymass, height)\n",
        "# Create a plot for the regression\n",
        "lm(height ~ bodymass)\n",
        "abline(lm(height ~ bodymass))"
      ],
      "metadata": {
        "colab": {
          "base_uri": "https://localhost:8080/",
          "height": 780
        },
        "id": "P_e34zN6OY9Q",
        "outputId": "c8334eb7-0747-4638-dcc9-2aca06200509"
      },
      "execution_count": 25,
      "outputs": [
        {
          "output_type": "display_data",
          "data": {
            "text/html": [
              "<style>\n",
              ".list-inline {list-style: none; margin:0; padding: 0}\n",
              ".list-inline>li {display: inline-block}\n",
              ".list-inline>li:not(:last-child)::after {content: \"\\00b7\"; padding: 0 .5ex}\n",
              "</style>\n",
              "<ol class=list-inline><li>176</li><li>154</li><li>138</li><li>196</li><li>132</li><li>176</li><li>181</li><li>169</li><li>150</li><li>175</li></ol>\n"
            ],
            "text/markdown": "1. 176\n2. 154\n3. 138\n4. 196\n5. 132\n6. 176\n7. 181\n8. 169\n9. 150\n10. 175\n\n\n",
            "text/latex": "\\begin{enumerate*}\n\\item 176\n\\item 154\n\\item 138\n\\item 196\n\\item 132\n\\item 176\n\\item 181\n\\item 169\n\\item 150\n\\item 175\n\\end{enumerate*}\n",
            "text/plain": [
              " [1] 176 154 138 196 132 176 181 169 150 175"
            ]
          },
          "metadata": {}
        },
        {
          "output_type": "display_data",
          "data": {
            "text/html": [
              "<style>\n",
              ".list-inline {list-style: none; margin:0; padding: 0}\n",
              ".list-inline>li {display: inline-block}\n",
              ".list-inline>li:not(:last-child)::after {content: \"\\00b7\"; padding: 0 .5ex}\n",
              "</style>\n",
              "<ol class=list-inline><li>82</li><li>49</li><li>53</li><li>112</li><li>47</li><li>69</li><li>77</li><li>71</li><li>62</li><li>78</li></ol>\n"
            ],
            "text/markdown": "1. 82\n2. 49\n3. 53\n4. 112\n5. 47\n6. 69\n7. 77\n8. 71\n9. 62\n10. 78\n\n\n",
            "text/latex": "\\begin{enumerate*}\n\\item 82\n\\item 49\n\\item 53\n\\item 112\n\\item 47\n\\item 69\n\\item 77\n\\item 71\n\\item 62\n\\item 78\n\\end{enumerate*}\n",
            "text/plain": [
              " [1]  82  49  53 112  47  69  77  71  62  78"
            ]
          },
          "metadata": {}
        },
        {
          "output_type": "display_data",
          "data": {
            "text/plain": [
              "\n",
              "Call:\n",
              "lm(formula = height ~ bodymass)\n",
              "\n",
              "Coefficients:\n",
              "(Intercept)     bodymass  \n",
              "    98.0054       0.9528  \n"
            ]
          },
          "metadata": {}
        },
        {
          "output_type": "display_data",
          "data": {
            "text/plain": [
              "plot without title"
            ],
            "image/png": "[encoded data removed]"
          },
          "metadata": {
            "image/png": {
              "width": 840,
              "height": 600
            }
          }
        }
      ]
    },
    {
      "cell_type": "markdown",
      "source": [
        "****\n",
        "\n",
        "**Section VI** gives our first astrostatistical calculation based on a (fictitious) dataset. Here we seek the distribution of galaxy X-ray luminosities from a sample of 12 galaxies where four are undetected. In statistical parlance, the astronomers' 'upper limits' are called 'left-censored' data points and are treated in a field of applied statistical called 'survival analysis'.  One of the most important results of 20th century statistics was the theorem by [Kaplan & Meier (1958)](https://www.jstor.org/stable/2281868) deriving the unique nonparametric maximum likelihood estimator for a randomly censored univariate dataset.  The KM paper has 62K citations and ~6M Google hits; the KM estimator has been used in ~800 astronomical studies.\n",
        "\n",
        "Although base-R has an implementation of the KM estimator, we will use the one provided by CRAN pacakage *NADA*.  The methodology and cookbook are detailed in the volume 'Statistics for Censored Environmental Data Using Minitab and R' (D.Helsel, 2nd ed, 2012) and is introduced in Chpt. 10 of our textbook 'Modern Statistical Methods for Astronomy with R Applications' (Feigelson & Babu 2012).  \n",
        "\n",
        "We start by installing *NADA*, one of many survival CRAN packages.  **This installation is not permitted by Google Colaboratory, so this section should be cut-and-pasted into your local R console.fco** We create a fictitious dataset of X-ray luminosities and apply NADA's *cenfit* function.  We use *str* to see the output from *cenfit* and various simple displays given in the *help(cenfit)* file.   "
      ],
      "metadata": {
        "id": "sJFAGDG6tOwq"
      }
    },
    {
      "cell_type": "code",
      "source": [
        "# VI.  Calculate the Kaplan-Meier estimator of the galaxy X-ray Luminosity Function from a small dataset.\n",
        "\n",
        "install.packages('NADA')\n",
        "library(NADA)\n",
        "\n",
        "help(cenfit)\n",
        "galLx <- c(39.7, 42.3, 41.7, 41.6, 43.0, 40.2, 40.6, 41.1, 39.9, 40.7, 41.2, 42.9)\n",
        "cens <- c(F,F,F,F,F,F,F,F, T,T,T,T)  # FALSE=detected TRUE=left-censored. \n",
        "galKM <- cenfit(galLx, cens)\n",
        "str(galKM)   # The help(cenfit) should describe this output but does not!  \n",
        "\n",
        "summary(galKM)  # display KM estimator on console\n",
        "plot(galKM, xlab=expression(\"log L\"[x]~~\"(erg/s)\"))     # plot KM estimator with 95% confidence band\n",
        "quantile(galKM) # median and other quantiles\n",
        "mean(galKM)  ;  sd(galKM)  # mean, uncertainty of mean, standard deviation about the mean"
      ],
      "metadata": {
        "id": "PHB2RSJ_wY-C",
        "colab": {
          "base_uri": "https://localhost:8080/",
          "height": 1000
        },
        "outputId": "efe561bc-9eff-4885-9a71-daa921ca626d"
      },
      "execution_count": 26,
      "outputs": [
        {
          "output_type": "stream",
          "name": "stderr",
          "text": [
            "Installing package into ‘/usr/local/lib/R/site-library’\n",
            "(as ‘lib’ is unspecified)\n",
            "\n",
            "Loading required package: survival\n",
            "\n",
            "\n",
            "Attaching package: ‘NADA’\n",
            "\n",
            "\n",
            "The following object is masked from ‘package:stats’:\n",
            "\n",
            "    cor\n",
            "\n",
            "\n"
          ]
        },
        {
          "output_type": "stream",
          "name": "stdout",
          "text": [
            "Formal class 'cenfit' [package \"NADA\"] with 1 slot\n",
            "  ..@ survfit:List of 16\n",
            "  .. ..$ n        : int 12\n",
            "  .. ..$ time     : num [1:12] 43 42.9 42.3 41.7 41.6 41.2 41.1 40.7 40.6 40.2 ...\n",
            "  .. ..$ n.risk   : num [1:12] 12 11 10 9 8 7 6 5 4 3 ...\n",
            "  .. ..$ n.event  : num [1:12] 1 0 1 1 1 0 1 0 1 1 ...\n",
            "  .. ..$ n.censor : num [1:12] 0 1 0 0 0 1 0 1 0 0 ...\n",
            "  .. ..$ surv     : num [1:12] 0.917 0.917 0.825 0.733 0.642 ...\n",
            "  .. ..$ std.err  : num [1:12] 0.087 0.087 0.137 0.18 0.225 ...\n",
            "  .. ..$ cumhaz   : num [1:12] 0.0833 0.0833 0.1833 0.2944 0.4194 ...\n",
            "  .. ..$ std.chaz : num [1:12] 0.0833 0.0833 0.1302 0.1711 0.2119 ...\n",
            "  .. ..$ type     : chr \"right\"\n",
            "  .. ..$ logse    : logi TRUE\n",
            "  .. ..$ conf.int : num 0.95\n",
            "  .. ..$ conf.type: chr \"plain\"\n",
            "  .. ..$ lower    : num [1:12] 0.76 0.76 0.604 0.474 0.359 ...\n",
            "  .. ..$ upper    : num [1:12] 1 1 1 0.993 0.924 ...\n",
            "  .. ..$ call     : language survfit(formula = flip(obs), conf.type = conf.type)\n",
            "  .. ..- attr(*, \"class\")= chr \"survfit\"\n"
          ]
        },
        {
          "output_type": "display_data",
          "data": {
            "text/html": [
              "<table class=\"dataframe\">\n",
              "<caption>A data.frame: 12 × 7</caption>\n",
              "<thead>\n",
              "\t<tr><th scope=col>obs</th><th scope=col>n.risk</th><th scope=col>n.event</th><th scope=col>prob</th><th scope=col>std.err</th><th scope=col>0.95LCL</th><th scope=col>0.95UCL</th></tr>\n",
              "\t<tr><th scope=col>&lt;dbl&gt;</th><th scope=col>&lt;dbl&gt;</th><th scope=col>&lt;dbl&gt;</th><th scope=col>&lt;dbl&gt;</th><th scope=col>&lt;dbl&gt;</th><th scope=col>&lt;dbl&gt;</th><th scope=col>&lt;dbl&gt;</th></tr>\n",
              "</thead>\n",
              "<tbody>\n",
              "\t<tr><td>39.7</td><td> 1</td><td>1</td><td>0.0000000</td><td>       NaN</td><td>       NaN</td><td>      NaN</td></tr>\n",
              "\t<tr><td>39.9</td><td> 2</td><td>0</td><td>0.2673611</td><td>0.15446121</td><td>0.00000000</td><td>0.5700995</td></tr>\n",
              "\t<tr><td>40.2</td><td> 3</td><td>1</td><td>0.2673611</td><td>0.15446121</td><td>0.00000000</td><td>0.5700995</td></tr>\n",
              "\t<tr><td>40.6</td><td> 4</td><td>1</td><td>0.4010417</td><td>0.16393707</td><td>0.07973092</td><td>0.7223524</td></tr>\n",
              "\t<tr><td>40.7</td><td> 5</td><td>0</td><td>0.5347222</td><td>0.15476143</td><td>0.23139540</td><td>0.8380490</td></tr>\n",
              "\t<tr><td>41.1</td><td> 6</td><td>1</td><td>0.5347222</td><td>0.15476143</td><td>0.23139540</td><td>0.8380490</td></tr>\n",
              "\t<tr><td>41.2</td><td> 7</td><td>0</td><td>0.6416667</td><td>0.14410082</td><td>0.35923425</td><td>0.9240991</td></tr>\n",
              "\t<tr><td>41.6</td><td> 8</td><td>1</td><td>0.6416667</td><td>0.14410082</td><td>0.35923425</td><td>0.9240991</td></tr>\n",
              "\t<tr><td>41.7</td><td> 9</td><td>1</td><td>0.7333333</td><td>0.13235754</td><td>0.47391732</td><td>0.9927493</td></tr>\n",
              "\t<tr><td>42.3</td><td>10</td><td>1</td><td>0.8250000</td><td>0.11277744</td><td>0.60396029</td><td>1.0000000</td></tr>\n",
              "\t<tr><td>42.9</td><td>11</td><td>0</td><td>0.9166667</td><td>0.07978559</td><td>0.76028978</td><td>1.0000000</td></tr>\n",
              "\t<tr><td>43.0</td><td>12</td><td>1</td><td>0.9166667</td><td>0.07978559</td><td>0.76028978</td><td>1.0000000</td></tr>\n",
              "</tbody>\n",
              "</table>\n"
            ],
            "text/markdown": "\nA data.frame: 12 × 7\n\n| obs &lt;dbl&gt; | n.risk &lt;dbl&gt; | n.event &lt;dbl&gt; | prob &lt;dbl&gt; | std.err &lt;dbl&gt; | 0.95LCL &lt;dbl&gt; | 0.95UCL &lt;dbl&gt; |\n|---|---|---|---|---|---|---|\n| 39.7 |  1 | 1 | 0.0000000 |        NaN |        NaN |       NaN |\n| 39.9 |  2 | 0 | 0.2673611 | 0.15446121 | 0.00000000 | 0.5700995 |\n| 40.2 |  3 | 1 | 0.2673611 | 0.15446121 | 0.00000000 | 0.5700995 |\n| 40.6 |  4 | 1 | 0.4010417 | 0.16393707 | 0.07973092 | 0.7223524 |\n| 40.7 |  5 | 0 | 0.5347222 | 0.15476143 | 0.23139540 | 0.8380490 |\n| 41.1 |  6 | 1 | 0.5347222 | 0.15476143 | 0.23139540 | 0.8380490 |\n| 41.2 |  7 | 0 | 0.6416667 | 0.14410082 | 0.35923425 | 0.9240991 |\n| 41.6 |  8 | 1 | 0.6416667 | 0.14410082 | 0.35923425 | 0.9240991 |\n| 41.7 |  9 | 1 | 0.7333333 | 0.13235754 | 0.47391732 | 0.9927493 |\n| 42.3 | 10 | 1 | 0.8250000 | 0.11277744 | 0.60396029 | 1.0000000 |\n| 42.9 | 11 | 0 | 0.9166667 | 0.07978559 | 0.76028978 | 1.0000000 |\n| 43.0 | 12 | 1 | 0.9166667 | 0.07978559 | 0.76028978 | 1.0000000 |\n\n",
            "text/latex": "A data.frame: 12 × 7\n\\begin{tabular}{lllllll}\n obs & n.risk & n.event & prob & std.err & 0.95LCL & 0.95UCL\\\\\n <dbl> & <dbl> & <dbl> & <dbl> & <dbl> & <dbl> & <dbl>\\\\\n\\hline\n\t 39.7 &  1 & 1 & 0.0000000 &        NaN &        NaN &       NaN\\\\\n\t 39.9 &  2 & 0 & 0.2673611 & 0.15446121 & 0.00000000 & 0.5700995\\\\\n\t 40.2 &  3 & 1 & 0.2673611 & 0.15446121 & 0.00000000 & 0.5700995\\\\\n\t 40.6 &  4 & 1 & 0.4010417 & 0.16393707 & 0.07973092 & 0.7223524\\\\\n\t 40.7 &  5 & 0 & 0.5347222 & 0.15476143 & 0.23139540 & 0.8380490\\\\\n\t 41.1 &  6 & 1 & 0.5347222 & 0.15476143 & 0.23139540 & 0.8380490\\\\\n\t 41.2 &  7 & 0 & 0.6416667 & 0.14410082 & 0.35923425 & 0.9240991\\\\\n\t 41.6 &  8 & 1 & 0.6416667 & 0.14410082 & 0.35923425 & 0.9240991\\\\\n\t 41.7 &  9 & 1 & 0.7333333 & 0.13235754 & 0.47391732 & 0.9927493\\\\\n\t 42.3 & 10 & 1 & 0.8250000 & 0.11277744 & 0.60396029 & 1.0000000\\\\\n\t 42.9 & 11 & 0 & 0.9166667 & 0.07978559 & 0.76028978 & 1.0000000\\\\\n\t 43.0 & 12 & 1 & 0.9166667 & 0.07978559 & 0.76028978 & 1.0000000\\\\\n\\end{tabular}\n",
            "text/plain": [
              "   obs  n.risk n.event prob      std.err    0.95LCL    0.95UCL  \n",
              "1  39.7  1     1       0.0000000        NaN        NaN       NaN\n",
              "2  39.9  2     0       0.2673611 0.15446121 0.00000000 0.5700995\n",
              "3  40.2  3     1       0.2673611 0.15446121 0.00000000 0.5700995\n",
              "4  40.6  4     1       0.4010417 0.16393707 0.07973092 0.7223524\n",
              "5  40.7  5     0       0.5347222 0.15476143 0.23139540 0.8380490\n",
              "6  41.1  6     1       0.5347222 0.15476143 0.23139540 0.8380490\n",
              "7  41.2  7     0       0.6416667 0.14410082 0.35923425 0.9240991\n",
              "8  41.6  8     1       0.6416667 0.14410082 0.35923425 0.9240991\n",
              "9  41.7  9     1       0.7333333 0.13235754 0.47391732 0.9927493\n",
              "10 42.3 10     1       0.8250000 0.11277744 0.60396029 1.0000000\n",
              "11 42.9 11     0       0.9166667 0.07978559 0.76028978 1.0000000\n",
              "12 43.0 12     1       0.9166667 0.07978559 0.76028978 1.0000000"
            ]
          },
          "metadata": {}
        },
        {
          "output_type": "display_data",
          "data": {
            "text/html": [
              "<style>\n",
              ".dl-inline {width: auto; margin:0; padding: 0}\n",
              ".dl-inline>dt, .dl-inline>dd {float: none; width: auto; display: inline-block}\n",
              ".dl-inline>dt::after {content: \":\\0020\"; padding-right: .5ex}\n",
              ".dl-inline>dt:not(:first-of-type) {padding-left: .5ex}\n",
              "</style><dl class=dl-inline><dt>5%</dt><dd>39.7</dd><dt>10%</dt><dd>39.7</dd><dt>25%</dt><dd>39.7</dd><dt>50%</dt><dd>40.6</dd><dt>75%</dt><dd>41.7</dd><dt>90%</dt><dd>42.3</dd><dt>95%</dt><dd>&lt;NA&gt;</dd></dl>\n"
            ],
            "text/markdown": "5%\n:   39.710%\n:   39.725%\n:   39.750%\n:   40.675%\n:   41.790%\n:   42.395%\n:   &lt;NA&gt;\n\n",
            "text/latex": "\\begin{description*}\n\\item[5\\textbackslash{}\\%] 39.7\n\\item[10\\textbackslash{}\\%] 39.7\n\\item[25\\textbackslash{}\\%] 39.7\n\\item[50\\textbackslash{}\\%] 40.6\n\\item[75\\textbackslash{}\\%] 41.7\n\\item[90\\textbackslash{}\\%] 42.3\n\\item[95\\textbackslash{}\\%] <NA>\n\\end{description*}\n",
            "text/plain": [
              "  5%  10%  25%  50%  75%  90%  95% \n",
              "39.7 39.7 39.7 40.6 41.7 42.3   NA "
            ]
          },
          "metadata": {}
        },
        {
          "output_type": "display_data",
          "data": {
            "text/html": [
              "<style>\n",
              ".dl-inline {width: auto; margin:0; padding: 0}\n",
              ".dl-inline>dt, .dl-inline>dd {float: none; width: auto; display: inline-block}\n",
              ".dl-inline>dt::after {content: \":\\0020\"; padding-right: .5ex}\n",
              ".dl-inline>dt:not(:first-of-type) {padding-left: .5ex}\n",
              "</style><dl class=dl-inline><dt>mean</dt><dd>40.9077083333333</dd><dt>se</dt><dd>0.344464548344437</dd><dt>0.95LCL</dt><dd>40.2325702246274</dd><dt>0.95UCL</dt><dd>41.5828464420393</dd></dl>\n"
            ],
            "text/markdown": "mean\n:   40.9077083333333se\n:   0.3444645483444370.95LCL\n:   40.23257022462740.95UCL\n:   41.5828464420393\n\n",
            "text/latex": "\\begin{description*}\n\\item[mean] 40.9077083333333\n\\item[se] 0.344464548344437\n\\item[0.95LCL] 40.2325702246274\n\\item[0.95UCL] 41.5828464420393\n\\end{description*}\n",
            "text/plain": [
              "      mean         se    0.95LCL    0.95UCL \n",
              "40.9077083  0.3444645 40.2325702 41.5828464 "
            ]
          },
          "metadata": {}
        },
        {
          "output_type": "display_data",
          "data": {
            "text/html": [
              "1.19326019827766"
            ],
            "text/markdown": "1.19326019827766",
            "text/latex": "1.19326019827766",
            "text/plain": [
              "[1] 1.19326"
            ]
          },
          "metadata": {}
        },
        {
          "output_type": "display_data",
          "data": {
            "text/plain": [
              "plot without title"
            ],
            "image/png": "[encoded data removed]"
          },
          "metadata": {
            "image/png": {
              "width": 840,
              "height": 600
            }
          }
        }
      ]
    },
    {
      "cell_type": "markdown",
      "source": [
        "****\n",
        "\n",
        "**In Section VII** we create a fictitious bivariate *(x,y)* dataset of 500 points where a nonlinear relation between x and y is present.  Also the errors are heteroscedastic; that is, the scatter in *y* depends on the *x* variable.  We will use this dataset here and in the next tutorial.  \n",
        "\n",
        "Here we show several common plots --  scatterplot, box plot, histogram, cumulative distribution function. Multipanel plots are designed using the *par(mfrow)* plot parameter; see *help(par)*. \n",
        "\n",
        "Plots can be downloaded to disk using functions like *pdf()*, *png()*, and *jpeg()* where the user presets the plot window.  But a convenient function is *dev.copy2pdf()* where the current window is downloaded.  "
      ],
      "metadata": {
        "id": "iJ1QXYBS0joC"
      }
    },
    {
      "cell_type": "code",
      "metadata": {
        "id": "-u3IR1XwUnCQ",
        "collapsed": true,
        "colab": {
          "base_uri": "https://localhost:8080/",
          "height": 690
        },
        "outputId": "9b370859-52ab-4a1f-de59-66ea9ea6e618"
      },
      "source": [
        "# VII. Examine, summarize and plot bivariate and univariate data \n",
        "\n",
        "\n",
        "set.seed(1)\n",
        "x <- sample(seq(0.01, 3, length.out=500))\n",
        "y <- 0.5*x + 0.3^(x^2) + rnorm(500, mean=0, sd=(0.05*(1+x^2)))\n",
        "xy <- cbind(x, y)\n",
        "\n",
        "plot(xy, pch=20)\n",
        "summary(x) ; summary(y)   \t# Summarizes properties of an R object"
      ],
      "execution_count": 27,
      "outputs": [
        {
          "output_type": "display_data",
          "data": {
            "text/plain": [
              "   Min. 1st Qu.  Median    Mean 3rd Qu.    Max. \n",
              " 0.0100  0.7575  1.5050  1.5050  2.2525  3.0000 "
            ]
          },
          "metadata": {}
        },
        {
          "output_type": "display_data",
          "data": {
            "text/plain": [
              "   Min. 1st Qu.  Median    Mean 3rd Qu.    Max. \n",
              " 0.2424  0.8173  0.9772  1.0224  1.1093  2.4776 "
            ]
          },
          "metadata": {}
        },
        {
          "output_type": "display_data",
          "data": {
            "text/plain": [
              "plot without title"
            ],
            "image/png": "[encoded data removed]"
          },
          "metadata": {
            "image/png": {
              "width": 840,
              "height": 600
            }
          }
        }
      ]
    },
    {
      "cell_type": "code",
      "metadata": {
        "id": "M67sbdDkUnCQ",
        "colab": {
          "base_uri": "https://localhost:8080/",
          "height": 634
        },
        "outputId": "0d2e74d9-fc76-4ffe-f460-25fd4c2027b6"
      },
      "source": [
        "par(mfrow=c(1,2))  \t\t# Set up a two-panel figure\n",
        "boxplot(x,  notch=T, main='Boxplot for X')  # See help(boxplot.stats) for explanation\n",
        "boxplot(y,  notch=T, pch=20, cex=0.5, main='Boxplot for Y')\n",
        "dev.copy2pdf(file='box.pdf')"
      ],
      "execution_count": 28,
      "outputs": [
        {
          "output_type": "display_data",
          "data": {
            "text/html": [
              "<strong>png:</strong> 2"
            ],
            "text/markdown": "**png:** 2",
            "text/latex": "\\textbf{png:} 2",
            "text/plain": [
              "png \n",
              "  2 "
            ]
          },
          "metadata": {}
        },
        {
          "output_type": "display_data",
          "data": {
            "text/plain": [
              "Plot with title “Boxplot for Y”"
            ],
            "image/png": "[encoded data removed]"
          },
          "metadata": {
            "image/png": {
              "width": 840,
              "height": 600
            }
          }
        }
      ]
    },
    {
      "cell_type": "code",
      "metadata": {
        "id": "Ui3EDPA3UnCQ",
        "colab": {
          "base_uri": "https://localhost:8080/",
          "height": 617
        },
        "outputId": "17cc8684-1d26-4faf-8bc5-1461def44510"
      },
      "source": [
        "par(mfrow=c(1,1))\n",
        "hist(x, breaks=30, main='', xlim=range(x), ylim=c(0,100), \n",
        "     xlab='Yvar', col='royalblue4')\n",
        "hist(y, breaks=30, main='', xlab='Yvar', \n",
        "     col='#ee3b3b70', add=TRUE) # add=TRUE suppresses a new plot"
      ],
      "execution_count": 29,
      "outputs": [
        {
          "output_type": "display_data",
          "data": {
            "text/plain": [
              "Plot with title “”"
            ],
            "image/png": "[encoded data removed]"
          },
          "metadata": {
            "image/png": {
              "width": 840,
              "height": 600
            }
          }
        }
      ]
    },
    {
      "cell_type": "code",
      "metadata": {
        "id": "loN9vpOCUnCR",
        "colab": {
          "base_uri": "https://localhost:8080/",
          "height": 634
        },
        "outputId": "19fe07c6-81a3-43c8-d56c-9ba7e160439d"
      },
      "source": [
        "plot(ecdf(x), pch=20, cex=0.0, verticals=TRUE, main='',ylab='EDF',xlab='')  \n",
        "plot(ecdf(y), pch=20, cex=0.0, verticals=TRUE, add=T)\n",
        "text(2.0,0.5,\"X\") ; text(1.4,0.8,\"Y\")             # text adds annotation within a plot\n",
        "dev.copy2pdf(file='ecdf.pdf')"
      ],
      "execution_count": 30,
      "outputs": [
        {
          "output_type": "display_data",
          "data": {
            "text/html": [
              "<strong>png:</strong> 2"
            ],
            "text/markdown": "**png:** 2",
            "text/latex": "\\textbf{png:} 2",
            "text/plain": [
              "png \n",
              "  2 "
            ]
          },
          "metadata": {}
        },
        {
          "output_type": "display_data",
          "data": {
            "text/plain": [
              "Plot with title “”"
            ],
            "image/png": "[encoded data removed]"
          },
          "metadata": {
            "image/png": {
              "width": 840,
              "height": 600
            }
          }
        }
      ]
    },
    {
      "cell_type": "markdown",
      "source": [
        "****\n",
        "\n",
        "**Section VIII** gives more practice with vectors and arrays. We show how random samples can be drawn from a dataset. Powerful theorems show that *bootstrap resampling* -- random draws with replacement -- can often give reliable estimates of confidence intervals for statistical quantities derived from the dataset."
      ],
      "metadata": {
        "id": "A8yklMY03dFU"
      }
    },
    {
      "cell_type": "code",
      "metadata": {
        "id": "8wNgDzsLUnCR",
        "colab": {
          "base_uri": "https://localhost:8080/",
          "height": 107
        },
        "outputId": "74bed02c-3d18-4dd2-a848-1d81b0e2843f"
      },
      "source": [
        "# VIII. Arrays, data frames and filtering\n",
        "\n",
        "# Here xy is an `array' of numbers created by `column bind'\n",
        "\n",
        "xy <- cbind(x, y)  ;  str(xy) \t\n",
        "\n",
        "# A data.frame associates names to the columns\n",
        "\n",
        "xy <- as.data.frame(xy)         \n",
        "names(xy) <- c('Xvar', 'Yvar')  \n",
        "\n",
        "# Collect rows where the first column value exceeds 2\n",
        "\n",
        "high_x1 <- xy[xy[,1]>2,]        \n",
        "high_x2 <- subset(xy, xy[,1]>2)\t# Another way to extract rows\n",
        "setequal(high_x1, high_x2)      # test equality of two vectors"
      ],
      "execution_count": 31,
      "outputs": [
        {
          "output_type": "stream",
          "name": "stdout",
          "text": [
            " num [1:500, 1:2] 1.945 1.005 0.777 2.509 2.826 ...\n",
            " - attr(*, \"dimnames\")=List of 2\n",
            "  ..$ : NULL\n",
            "  ..$ : chr [1:2] \"x\" \"y\"\n"
          ]
        },
        {
          "output_type": "display_data",
          "data": {
            "text/html": [
              "TRUE"
            ],
            "text/markdown": "TRUE",
            "text/latex": "TRUE",
            "text/plain": [
              "[1] TRUE"
            ]
          },
          "metadata": {}
        }
      ]
    },
    {
      "cell_type": "code",
      "metadata": {
        "id": "qHuWXQX8UnCR",
        "colab": {
          "base_uri": "https://localhost:8080/",
          "height": 1000
        },
        "outputId": "dc68dd6f-ea0c-44d1-f745-c6b4a75a9920"
      },
      "source": [
        "# Sampling and bootstrapping \n",
        "\n",
        "trials <- sample.int(length(xy[,1]),20) # 20 random rows\n",
        "xy[trials,]\t\n",
        "\n",
        "# 20 bootstrap resamples\n",
        "\n",
        "trials <- sample.int(length(xy[,1]),20, replace=T) \n",
        "xy[trials,]\t\n",
        "\n",
        "# Estimate the standard error of the median of Yvar\n",
        "\n",
        "median(xy[,2]) \n",
        "\n",
        "# Median absolute deviation estimate of median s.e.\n",
        "\n",
        "mad(xy[,2]) / sqrt(500)\t"
      ],
      "execution_count": 32,
      "outputs": [
        {
          "output_type": "display_data",
          "data": {
            "text/html": [
              "<table class=\"dataframe\">\n",
              "<caption>A data.frame: 20 × 2</caption>\n",
              "<thead>\n",
              "\t<tr><th></th><th scope=col>Xvar</th><th scope=col>Yvar</th></tr>\n",
              "\t<tr><th></th><th scope=col>&lt;dbl&gt;</th><th scope=col>&lt;dbl&gt;</th></tr>\n",
              "</thead>\n",
              "<tbody>\n",
              "\t<tr><th scope=row>365</th><td>1.3701804</td><td>0.7474357</td></tr>\n",
              "\t<tr><th scope=row>70</th><td>0.6271743</td><td>0.9346030</td></tr>\n",
              "\t<tr><th scope=row>64</th><td>2.4127856</td><td>1.6647248</td></tr>\n",
              "\t<tr><th scope=row>500</th><td>2.7603206</td><td>0.8825305</td></tr>\n",
              "\t<tr><th scope=row>281</th><td>2.0892184</td><td>0.9773200</td></tr>\n",
              "\t<tr><th scope=row>42</th><td>0.1238477</td><td>1.0158780</td></tr>\n",
              "\t<tr><th scope=row>39</th><td>0.6691182</td><td>0.9584457</td></tr>\n",
              "\t<tr><th scope=row>205</th><td>2.3229058</td><td>1.3180341</td></tr>\n",
              "\t<tr><th scope=row>225</th><td>0.2137275</td><td>1.1109325</td></tr>\n",
              "\t<tr><th scope=row>396</th><td>0.3335671</td><td>1.0662892</td></tr>\n",
              "\t<tr><th scope=row>103</th><td>2.0772345</td><td>0.5875749</td></tr>\n",
              "\t<tr><th scope=row>458</th><td>1.4600601</td><td>1.0011638</td></tr>\n",
              "\t<tr><th scope=row>185</th><td>1.2443487</td><td>0.7457332</td></tr>\n",
              "\t<tr><th scope=row>496</th><td>2.5506012</td><td>0.9916612</td></tr>\n",
              "\t<tr><th scope=row>378</th><td>2.2749699</td><td>1.3308069</td></tr>\n",
              "\t<tr><th scope=row>1</th><td>1.9454108</td><td>0.6358329</td></tr>\n",
              "\t<tr><th scope=row>138</th><td>1.4001403</td><td>0.9196471</td></tr>\n",
              "\t<tr><th scope=row>412</th><td>0.3155912</td><td>1.1018845</td></tr>\n",
              "\t<tr><th scope=row>165</th><td>2.8741683</td><td>2.2937229</td></tr>\n",
              "\t<tr><th scope=row>245</th><td>2.4786974</td><td>1.3711992</td></tr>\n",
              "</tbody>\n",
              "</table>\n"
            ],
            "text/markdown": "\nA data.frame: 20 × 2\n\n| <!--/--> | Xvar &lt;dbl&gt; | Yvar &lt;dbl&gt; |\n|---|---|---|\n| 365 | 1.3701804 | 0.7474357 |\n| 70 | 0.6271743 | 0.9346030 |\n| 64 | 2.4127856 | 1.6647248 |\n| 500 | 2.7603206 | 0.8825305 |\n| 281 | 2.0892184 | 0.9773200 |\n| 42 | 0.1238477 | 1.0158780 |\n| 39 | 0.6691182 | 0.9584457 |\n| 205 | 2.3229058 | 1.3180341 |\n| 225 | 0.2137275 | 1.1109325 |\n| 396 | 0.3335671 | 1.0662892 |\n| 103 | 2.0772345 | 0.5875749 |\n| 458 | 1.4600601 | 1.0011638 |\n| 185 | 1.2443487 | 0.7457332 |\n| 496 | 2.5506012 | 0.9916612 |\n| 378 | 2.2749699 | 1.3308069 |\n| 1 | 1.9454108 | 0.6358329 |\n| 138 | 1.4001403 | 0.9196471 |\n| 412 | 0.3155912 | 1.1018845 |\n| 165 | 2.8741683 | 2.2937229 |\n| 245 | 2.4786974 | 1.3711992 |\n\n",
            "text/latex": "A data.frame: 20 × 2\n\\begin{tabular}{r|ll}\n  & Xvar & Yvar\\\\\n  & <dbl> & <dbl>\\\\\n\\hline\n\t365 & 1.3701804 & 0.7474357\\\\\n\t70 & 0.6271743 & 0.9346030\\\\\n\t64 & 2.4127856 & 1.6647248\\\\\n\t500 & 2.7603206 & 0.8825305\\\\\n\t281 & 2.0892184 & 0.9773200\\\\\n\t42 & 0.1238477 & 1.0158780\\\\\n\t39 & 0.6691182 & 0.9584457\\\\\n\t205 & 2.3229058 & 1.3180341\\\\\n\t225 & 0.2137275 & 1.1109325\\\\\n\t396 & 0.3335671 & 1.0662892\\\\\n\t103 & 2.0772345 & 0.5875749\\\\\n\t458 & 1.4600601 & 1.0011638\\\\\n\t185 & 1.2443487 & 0.7457332\\\\\n\t496 & 2.5506012 & 0.9916612\\\\\n\t378 & 2.2749699 & 1.3308069\\\\\n\t1 & 1.9454108 & 0.6358329\\\\\n\t138 & 1.4001403 & 0.9196471\\\\\n\t412 & 0.3155912 & 1.1018845\\\\\n\t165 & 2.8741683 & 2.2937229\\\\\n\t245 & 2.4786974 & 1.3711992\\\\\n\\end{tabular}\n",
            "text/plain": [
              "    Xvar      Yvar     \n",
              "365 1.3701804 0.7474357\n",
              "70  0.6271743 0.9346030\n",
              "64  2.4127856 1.6647248\n",
              "500 2.7603206 0.8825305\n",
              "281 2.0892184 0.9773200\n",
              "42  0.1238477 1.0158780\n",
              "39  0.6691182 0.9584457\n",
              "205 2.3229058 1.3180341\n",
              "225 0.2137275 1.1109325\n",
              "396 0.3335671 1.0662892\n",
              "103 2.0772345 0.5875749\n",
              "458 1.4600601 1.0011638\n",
              "185 1.2443487 0.7457332\n",
              "496 2.5506012 0.9916612\n",
              "378 2.2749699 1.3308069\n",
              "1   1.9454108 0.6358329\n",
              "138 1.4001403 0.9196471\n",
              "412 0.3155912 1.1018845\n",
              "165 2.8741683 2.2937229\n",
              "245 2.4786974 1.3711992"
            ]
          },
          "metadata": {}
        },
        {
          "output_type": "display_data",
          "data": {
            "text/html": [
              "<table class=\"dataframe\">\n",
              "<caption>A data.frame: 20 × 2</caption>\n",
              "<thead>\n",
              "\t<tr><th></th><th scope=col>Xvar</th><th scope=col>Yvar</th></tr>\n",
              "\t<tr><th></th><th scope=col>&lt;dbl&gt;</th><th scope=col>&lt;dbl&gt;</th></tr>\n",
              "</thead>\n",
              "<tbody>\n",
              "\t<tr><th scope=row>305</th><td>2.9940080</td><td>1.7156475</td></tr>\n",
              "\t<tr><th scope=row>33</th><td>2.0412826</td><td>1.1690420</td></tr>\n",
              "\t<tr><th scope=row>95</th><td>0.8968136</td><td>0.6275851</td></tr>\n",
              "\t<tr><th scope=row>328</th><td>2.5625852</td><td>1.8185672</td></tr>\n",
              "\t<tr><th scope=row>258</th><td>1.4720441</td><td>0.5118487</td></tr>\n",
              "\t<tr><th scope=row>71</th><td>2.9580561</td><td>1.3992631</td></tr>\n",
              "\t<tr><th scope=row>103</th><td>2.0772345</td><td>0.5875749</td></tr>\n",
              "\t<tr><th scope=row>368</th><td>1.0166533</td><td>0.7309967</td></tr>\n",
              "\t<tr><th scope=row>450</th><td>0.9267735</td><td>0.9471256</td></tr>\n",
              "\t<tr><th scope=row>376</th><td>0.2077355</td><td>0.9907566</td></tr>\n",
              "\t<tr><th scope=row>153</th><td>1.4840281</td><td>0.8761777</td></tr>\n",
              "\t<tr><th scope=row>478</th><td>2.7902806</td><td>1.1248269</td></tr>\n",
              "\t<tr><th scope=row>134</th><td>0.4713828</td><td>1.0070678</td></tr>\n",
              "\t<tr><th scope=row>60</th><td>0.9627255</td><td>0.8970635</td></tr>\n",
              "\t<tr><th scope=row>214</th><td>1.0106613</td><td>0.6736433</td></tr>\n",
              "\t<tr><th scope=row>102</th><td>0.7110621</td><td>0.8209460</td></tr>\n",
              "\t<tr><th scope=row>241</th><td>1.2143888</td><td>0.6604694</td></tr>\n",
              "\t<tr><th scope=row>66</th><td>1.2383567</td><td>0.8015349</td></tr>\n",
              "\t<tr><th scope=row>161</th><td>2.6344890</td><td>1.6030574</td></tr>\n",
              "\t<tr><th scope=row>133</th><td>2.4906814</td><td>1.4692744</td></tr>\n",
              "</tbody>\n",
              "</table>\n"
            ],
            "text/markdown": "\nA data.frame: 20 × 2\n\n| <!--/--> | Xvar &lt;dbl&gt; | Yvar &lt;dbl&gt; |\n|---|---|---|\n| 305 | 2.9940080 | 1.7156475 |\n| 33 | 2.0412826 | 1.1690420 |\n| 95 | 0.8968136 | 0.6275851 |\n| 328 | 2.5625852 | 1.8185672 |\n| 258 | 1.4720441 | 0.5118487 |\n| 71 | 2.9580561 | 1.3992631 |\n| 103 | 2.0772345 | 0.5875749 |\n| 368 | 1.0166533 | 0.7309967 |\n| 450 | 0.9267735 | 0.9471256 |\n| 376 | 0.2077355 | 0.9907566 |\n| 153 | 1.4840281 | 0.8761777 |\n| 478 | 2.7902806 | 1.1248269 |\n| 134 | 0.4713828 | 1.0070678 |\n| 60 | 0.9627255 | 0.8970635 |\n| 214 | 1.0106613 | 0.6736433 |\n| 102 | 0.7110621 | 0.8209460 |\n| 241 | 1.2143888 | 0.6604694 |\n| 66 | 1.2383567 | 0.8015349 |\n| 161 | 2.6344890 | 1.6030574 |\n| 133 | 2.4906814 | 1.4692744 |\n\n",
            "text/latex": "A data.frame: 20 × 2\n\\begin{tabular}{r|ll}\n  & Xvar & Yvar\\\\\n  & <dbl> & <dbl>\\\\\n\\hline\n\t305 & 2.9940080 & 1.7156475\\\\\n\t33 & 2.0412826 & 1.1690420\\\\\n\t95 & 0.8968136 & 0.6275851\\\\\n\t328 & 2.5625852 & 1.8185672\\\\\n\t258 & 1.4720441 & 0.5118487\\\\\n\t71 & 2.9580561 & 1.3992631\\\\\n\t103 & 2.0772345 & 0.5875749\\\\\n\t368 & 1.0166533 & 0.7309967\\\\\n\t450 & 0.9267735 & 0.9471256\\\\\n\t376 & 0.2077355 & 0.9907566\\\\\n\t153 & 1.4840281 & 0.8761777\\\\\n\t478 & 2.7902806 & 1.1248269\\\\\n\t134 & 0.4713828 & 1.0070678\\\\\n\t60 & 0.9627255 & 0.8970635\\\\\n\t214 & 1.0106613 & 0.6736433\\\\\n\t102 & 0.7110621 & 0.8209460\\\\\n\t241 & 1.2143888 & 0.6604694\\\\\n\t66 & 1.2383567 & 0.8015349\\\\\n\t161 & 2.6344890 & 1.6030574\\\\\n\t133 & 2.4906814 & 1.4692744\\\\\n\\end{tabular}\n",
            "text/plain": [
              "    Xvar      Yvar     \n",
              "305 2.9940080 1.7156475\n",
              "33  2.0412826 1.1690420\n",
              "95  0.8968136 0.6275851\n",
              "328 2.5625852 1.8185672\n",
              "258 1.4720441 0.5118487\n",
              "71  2.9580561 1.3992631\n",
              "103 2.0772345 0.5875749\n",
              "368 1.0166533 0.7309967\n",
              "450 0.9267735 0.9471256\n",
              "376 0.2077355 0.9907566\n",
              "153 1.4840281 0.8761777\n",
              "478 2.7902806 1.1248269\n",
              "134 0.4713828 1.0070678\n",
              "60  0.9627255 0.8970635\n",
              "214 1.0106613 0.6736433\n",
              "102 0.7110621 0.8209460\n",
              "241 1.2143888 0.6604694\n",
              "66  1.2383567 0.8015349\n",
              "161 2.6344890 1.6030574\n",
              "133 2.4906814 1.4692744"
            ]
          },
          "metadata": {}
        },
        {
          "output_type": "display_data",
          "data": {
            "text/html": [
              "0.977173605158623"
            ],
            "text/markdown": "0.977173605158623",
            "text/latex": "0.977173605158623",
            "text/plain": [
              "[1] 0.9771736"
            ]
          },
          "metadata": {}
        },
        {
          "output_type": "display_data",
          "data": {
            "text/html": [
              "0.0102508507068293"
            ],
            "text/markdown": "0.0102508507068293",
            "text/latex": "0.0102508507068293",
            "text/plain": [
              "[1] 0.01025085"
            ]
          },
          "metadata": {}
        }
      ]
    },
    {
      "cell_type": "code",
      "metadata": {
        "id": "H2wHjvLBUnCS",
        "colab": {
          "base_uri": "https://localhost:8080/",
          "height": 982
        },
        "outputId": "0b4373c2-00df-4202-e6a1-aa9c7ecacfa7"
      },
      "source": [
        "library(boot)  \t\t\t# The following function in a base-R library\n",
        "med <- function(x,index){ median(x[index]) }\n",
        "\n",
        "# Read help(boot) to understand its output list structure\n",
        "\n",
        "boot(xy[,2], med, R=1000) # Bootstrap estimate of median s.e. \n",
        "hist(boot(xy[,2], med, R=1000)$t, breaks=50, \n",
        "     xlab='Bootstrap median of Yvar')"
      ],
      "execution_count": 33,
      "outputs": [
        {
          "output_type": "stream",
          "name": "stderr",
          "text": [
            "\n",
            "Attaching package: ‘boot’\n",
            "\n",
            "\n",
            "The following object is masked from ‘package:survival’:\n",
            "\n",
            "    aml\n",
            "\n",
            "\n"
          ]
        },
        {
          "output_type": "display_data",
          "data": {
            "text/plain": [
              "\n",
              "ORDINARY NONPARAMETRIC BOOTSTRAP\n",
              "\n",
              "\n",
              "Call:\n",
              "boot(data = xy[, 2], statistic = med, R = 1000)\n",
              "\n",
              "\n",
              "Bootstrap Statistics :\n",
              "     original        bias    std. error\n",
              "t1* 0.9771736 -1.271103e-05  0.01299467"
            ]
          },
          "metadata": {}
        },
        {
          "output_type": "display_data",
          "data": {
            "text/plain": [
              "Plot with title “Histogram of boot(xy[, 2], med, R = 1000)$t”"
            ],
            "image/png": "[encoded data removed]"
          },
          "metadata": {
            "image/png": {
              "width": 840,
              "height": 600
            }
          }
        }
      ]
    },
    {
      "cell_type": "markdown",
      "metadata": {
        "collapsed": false,
        "id": "aUfbSQAdUnCS"
      },
      "source": [
        "> **Exercise**  Use bootstrap resampling (random sampling with replacement) to estimate uncertainties of a statistic. Create a univariate sample with a weird distribution … maybe sampling from a polynomial or nonlinear function over some interval.  First, calculate the median and a robust measure of its standard error: $1.48*(MAD)$ where MAD is the median absolute deviation and the 1.48 scales it to the standard deviation for a Gaussian distribution.   Second, estimate the uncertainty of the median from a bootstrap resampling.  Give the standard error, 95% confidence interval, and plot a histogram of the bootstrap medians."
      ]
    },
    {
      "cell_type": "code",
      "source": [
        "# Bootstrapping\n",
        "x <- runif(10)\n",
        "x\n",
        "hist(x)\n",
        "mean(x)\n",
        "resample <- sample(x, replace = TRUE)\n",
        "mean(resample)"
      ],
      "metadata": {
        "colab": {
          "base_uri": "https://localhost:8080/",
          "height": 669
        },
        "id": "Y11SUNuTQT_-",
        "outputId": "1ec59945-9ffa-4b65-d50a-447f6ee4aae4"
      },
      "execution_count": 39,
      "outputs": [
        {
          "output_type": "display_data",
          "data": {
            "text/html": [
              "<style>\n",
              ".list-inline {list-style: none; margin:0; padding: 0}\n",
              ".list-inline>li {display: inline-block}\n",
              ".list-inline>li:not(:last-child)::after {content: \"\\00b7\"; padding: 0 .5ex}\n",
              "</style>\n",
              "<ol class=list-inline><li>0.41451861243695</li><li>0.919629843439907</li><li>0.587127588456497</li><li>0.03010618314147</li><li>0.896687334869057</li><li>0.931216006865725</li><li>0.153001715661958</li><li>0.699115392519161</li><li>0.89878055267036</li><li>0.16957965772599</li></ol>\n"
            ],
            "text/markdown": "1. 0.41451861243695\n2. 0.919629843439907\n3. 0.587127588456497\n4. 0.03010618314147\n5. 0.896687334869057\n6. 0.931216006865725\n7. 0.153001715661958\n8. 0.699115392519161\n9. 0.89878055267036\n10. 0.16957965772599\n\n\n",
            "text/latex": "\\begin{enumerate*}\n\\item 0.41451861243695\n\\item 0.919629843439907\n\\item 0.587127588456497\n\\item 0.03010618314147\n\\item 0.896687334869057\n\\item 0.931216006865725\n\\item 0.153001715661958\n\\item 0.699115392519161\n\\item 0.89878055267036\n\\item 0.16957965772599\n\\end{enumerate*}\n",
            "text/plain": [
              " [1] 0.41451861 0.91962984 0.58712759 0.03010618 0.89668733 0.93121601\n",
              " [7] 0.15300172 0.69911539 0.89878055 0.16957966"
            ]
          },
          "metadata": {}
        },
        {
          "output_type": "display_data",
          "data": {
            "text/html": [
              "0.569976288778707"
            ],
            "text/markdown": "0.569976288778707",
            "text/latex": "0.569976288778707",
            "text/plain": [
              "[1] 0.5699763"
            ]
          },
          "metadata": {}
        },
        {
          "output_type": "display_data",
          "data": {
            "text/html": [
              "0.738781166751869"
            ],
            "text/markdown": "0.738781166751869",
            "text/latex": "0.738781166751869",
            "text/plain": [
              "[1] 0.7387812"
            ]
          },
          "metadata": {}
        },
        {
          "output_type": "display_data",
          "data": {
            "text/plain": [
              "Plot with title “Histogram of x”"
            ],
            "image/png": "[encoded data removed]"
          },
          "metadata": {
            "image/png": {
              "width": 840,
              "height": 600
            }
          }
        }
      ]
    },
    {
      "cell_type": "code",
      "source": [
        "# Use boot package\n",
        "library(boot)\n",
        "# Create a function to take a resample of the values, then calculate the mean\n",
        "boot_mean <- function(original_vector, resample_vector) {\n",
        "    mean(original_vector[resample_vector])\n",
        "}\n",
        "# R is number of replications\n",
        "mean_results <- boot(x, boot_mean, R = 2000)\n",
        "\n",
        "# Load broom to get a tidy dataframe as output.\n",
        "library(broom)\n",
        "tidy(mean_results)\n",
        "# Calculate the confidence intervals\n",
        "boot.ci(mean_results)"
      ],
      "metadata": {
        "colab": {
          "base_uri": "https://localhost:8080/",
          "height": 403
        },
        "id": "Jxt_onCDRLgL",
        "outputId": "f86bec56-2a84-4776-b80b-ee9db69a29bc"
      },
      "execution_count": 43,
      "outputs": [
        {
          "output_type": "display_data",
          "data": {
            "text/html": [
              "<table class=\"dataframe\">\n",
              "<caption>A tibble: 1 × 3</caption>\n",
              "<thead>\n",
              "\t<tr><th scope=col>statistic</th><th scope=col>bias</th><th scope=col>std.error</th></tr>\n",
              "\t<tr><th scope=col>&lt;dbl&gt;</th><th scope=col>&lt;dbl&gt;</th><th scope=col>&lt;dbl&gt;</th></tr>\n",
              "</thead>\n",
              "<tbody>\n",
              "\t<tr><td>0.5699763</td><td>0.001288507</td><td>0.1069147</td></tr>\n",
              "</tbody>\n",
              "</table>\n"
            ],
            "text/markdown": "\nA tibble: 1 × 3\n\n| statistic &lt;dbl&gt; | bias &lt;dbl&gt; | std.error &lt;dbl&gt; |\n|---|---|---|\n| 0.5699763 | 0.001288507 | 0.1069147 |\n\n",
            "text/latex": "A tibble: 1 × 3\n\\begin{tabular}{lll}\n statistic & bias & std.error\\\\\n <dbl> & <dbl> & <dbl>\\\\\n\\hline\n\t 0.5699763 & 0.001288507 & 0.1069147\\\\\n\\end{tabular}\n",
            "text/plain": [
              "  statistic bias        std.error\n",
              "1 0.5699763 0.001288507 0.1069147"
            ]
          },
          "metadata": {}
        },
        {
          "output_type": "stream",
          "name": "stderr",
          "text": [
            "Warning message in boot.ci(mean_results):\n",
            "“bootstrap variances needed for studentized intervals”\n"
          ]
        },
        {
          "output_type": "display_data",
          "data": {
            "text/plain": [
              "BOOTSTRAP CONFIDENCE INTERVAL CALCULATIONS\n",
              "Based on 2000 bootstrap replicates\n",
              "\n",
              "CALL : \n",
              "boot.ci(boot.out = mean_results)\n",
              "\n",
              "Intervals : \n",
              "Level      Normal              Basic         \n",
              "95%   ( 0.3591,  0.7782 )   ( 0.3658,  0.7771 )  \n",
              "\n",
              "Level     Percentile            BCa          \n",
              "95%   ( 0.3628,  0.7741 )   ( 0.3476,  0.7641 )  \n",
              "Calculations and Intervals on Original Scale"
            ]
          },
          "metadata": {}
        }
      ]
    },
    {
      "cell_type": "markdown",
      "source": [
        "**Section IX** gives more practice with bivariate plotting, and shows application of two correlation coefficients that give a probability of relationship between the *x* and *y* variables.  Pearson's correlation coefficient is commonly used but is limited: it assumes a linear relationship and requires homoscedastic Gaussian errors. The nonparametric Kendall's tau coefficient makes no assumptions and is therefore more generally useful.  "
      ],
      "metadata": {
        "id": "lVa4nFvV4YAs"
      }
    },
    {
      "cell_type": "code",
      "metadata": {
        "id": "FcTA6VYIUnCS",
        "colab": {
          "base_uri": "https://localhost:8080/",
          "height": 617
        },
        "outputId": "b9766ce6-d1f1-4e50-d753-246fb13ccfed"
      },
      "source": [
        "# IX. Bivariate plots and correlation tests\n",
        "\n",
        "# Scatterplot. See help(points) for symbol shapes defined by the 'pch' argument.\n",
        "par(mfrow=c(1,2))\n",
        "plot(xy, pch=20, cex=0.5)\t \n",
        "plot(log10(xy), pch=20, cex=0.5, xlab='log(Xvar)', ylab='log(Yvar)')"
      ],
      "execution_count": 34,
      "outputs": [
        {
          "output_type": "display_data",
          "data": {
            "text/plain": [
              "plot without title"
            ],
            "image/png": "[encoded data removed]"
          },
          "metadata": {
            "image/png": {
              "width": 840,
              "height": 600
            }
          }
        }
      ]
    },
    {
      "cell_type": "code",
      "metadata": {
        "id": "fYHAd0yDUnCS",
        "colab": {
          "base_uri": "https://localhost:8080/",
          "height": 400
        },
        "outputId": "7ddb317b-af18-4317-8d3f-702554b4a6b5"
      },
      "source": [
        "length(x[x>2])\t\t# State length of a vector.  Use `dim' for an array or data.frame.\n",
        "# Parametric hypothesis test for bivariate correlation \n",
        "cor.test(x[x>2],y[x>2], method='pearson')\t\n",
        "# Nonparametric hypothesis test for bivariate correlation\n",
        "cor.test(x[x>2],y[x>2], method='kendall')\t"
      ],
      "execution_count": 35,
      "outputs": [
        {
          "output_type": "display_data",
          "data": {
            "text/html": [
              "167"
            ],
            "text/markdown": "167",
            "text/latex": "167",
            "text/plain": [
              "[1] 167"
            ]
          },
          "metadata": {}
        },
        {
          "output_type": "display_data",
          "data": {
            "text/plain": [
              "\n",
              "\tPearson's product-moment correlation\n",
              "\n",
              "data:  x[x > 2] and y[x > 2]\n",
              "t = 5.4633, df = 165, p-value = 1.695e-07\n",
              "alternative hypothesis: true correlation is not equal to 0\n",
              "95 percent confidence interval:\n",
              " 0.2546585 0.5127717\n",
              "sample estimates:\n",
              "      cor \n",
              "0.3913858 \n"
            ]
          },
          "metadata": {}
        },
        {
          "output_type": "display_data",
          "data": {
            "text/plain": [
              "\n",
              "\tKendall's rank correlation tau\n",
              "\n",
              "data:  x[x > 2] and y[x > 2]\n",
              "z = 5.1525, p-value = 2.571e-07\n",
              "alternative hypothesis: true tau is not equal to 0\n",
              "sample estimates:\n",
              "      tau \n",
              "0.2685953 \n"
            ]
          },
          "metadata": {}
        }
      ]
    },
    {
      "cell_type": "markdown",
      "metadata": {
        "collapsed": false,
        "id": "iMD_GRF6UnCT"
      },
      "source": [
        "****\n",
        "\n",
        "**Section X: R for advanced astronomical data analysis**\n",
        "\n",
        "R was designed in the 1990s for interactive data exploration and analysis by a single user using a single CPU core with a graphics window.  The compiler was not optimized for speed.  However, around 2012 a new compiler was implemented similar to the one underlying Python.  R and Python thus have roughly similar computational efficiency.  Both are slower than C, C++ and Fortran which are used in both environments for computationally heavy portions of an analysis. Many CRAN packages use C++ under the hood.  \n",
        "\n",
        "In addition to improved compilers, R has also been adapted for use in a multi-core environment, including GPUs.  Two capabilities are now in base-R (Rmpi and snow), but most are in several dozen CRAN packages; see the [CRAN Task View on High Performance and Parallel Computing with R](https://cran.r-project.org/web/views/HighPerformanceComputing.html).  \n",
        "\n",
        "Generally, R has not been viewed as a language appropriate for pipeline analysis of large datasets such as those emerging from astronomical satellites or observatories.  This criticism is valid in the sense that it does not have a large and growing software library of specialized code for astronomical data, such as the ~2000 CRAN packages in the _Bioconductor_ toolbox for genomics or the diverse packages in the _astropy_ project in Python.  \n",
        "\n",
        "However, R can be operated in batch mode, running scripts with the _Rscript_ (or with more flexibility, CRAN package _littler_) command line interface from the operating system prompt.  These commands can be embedded in parallelized scripts for supercomputers using PBS or related scripts.  Using Rscript, we at Penn State have reanalized the full dataset of major surveys from NASA satellites and ground-based observatories involving millions of input and output files.  The motivation for this approach is that the instrument-specific characteristics of the data reduction had already been performed in Python (e.g NASA Levels 2 and 3 data products), and the data were ready for advanced statistical analysis using CRAN packages.  In our case, sophisticated CRAN packages originally designed for econometrics and machine learning play a central role, along with a Fortran code we wrote for a computationally intensive step.  R code for astronomical pipelines can be remarkably brief if one effectively uses the tens-of-thousands of advanced functions available in CRAN.\n",
        "\n",
        "Many statistical functionalities of R can also be run directly from Python and several other languages through bi-language interfaces.  R scripts can be embedded in Python using [rpy2](https://pypi.org/project/rpy2/) and, conversely, Python programs can be embedded in R scripts using CRAN package [reticulate](https://cran.r-project.org/web/packages/reticulate/index.html) or several other options.\n"
      ]
    },
    {
      "cell_type": "markdown",
      "metadata": {
        "collapsed": false,
        "id": "3O-QjliYUnCT"
      },
      "source": [
        "# XI.  Resources for further study of R\n",
        "\n",
        "We give here a miscellaneous collection of commands and resources useful for learning more about R as a programming language.  \n",
        "\n",
        "* There are >700 books with 'R' in the title, most presenting both methodology and code tutorials.  A new book on R is published every ~10 days.  Two are devoted specifically to astronomy:\n",
        "  * [_Modern Statistical Methods for Astronomy with R Applications_](https://doi.org/10.1017/CBO9781139015653), 2012 E. D. Feigelson & G. J. Babu, Cambridge Univ Press\n",
        "  * [_Bayesian Models for Astrophysical Data Using R, JAGS, Python, and Stan_](https://doi.org/10.1017/CBO9781316459515), 2018, J. M. Hilbe, R. S. de Souza & E. E. O. Ishida, Cambridge Univ Press\n",
        "\n",
        "* Two high-quality introductions to R:\n",
        "  * From the R Core Team: https://cran.r-project.org/doc/manuals/R-intro.html\n",
        "  * From Carnegie-Mellon University: http://www.stat.cmu.edu/~cshalizi/statcomp/14/\n",
        "\n",
        "* There are vast informal online learning resources about R programming: \n",
        "  *  [R-bloggers](https://www.r-bloggers.com) aggregates entries from ~1100 blogs.  \n",
        "  * [Stack Overflow] has ~400,000 questions and answers about R programming.\n",
        "  * CRAN packages are often described in two open-access journals: [Journal of Statistical Software](https://www.jstatsoft.org/index) and [The R Journal](https://journal.r-project.org).  These articles often appear as _vignettes_ within the R environment.  \n",
        "\n"
      ]
    },
    {
      "cell_type": "code",
      "metadata": {
        "id": "SIAhSLscUnCU",
        "colab": {
          "base_uri": "https://localhost:8080/",
          "height": 360
        },
        "outputId": "34a50f6f-962c-4d55-a702-fc406aaa33e9"
      },
      "source": [
        "# A list of the ~30 important CRAN packages embedded in the base-R environment\n",
        "library()\n",
        "\n",
        "# A full list of ~400 functions in R's `base' package\n",
        "library(help = \"base\")\n",
        "\n",
        "# Statistics in base R (~400 functions, tens-of-thousands more in CRAN and elsewhere in R)\n",
        "library(help='stats')\n",
        "\n",
        "# List current contents of your session environment\n",
        "ls()\n",
        "\n",
        "# Programming utilities including:\n",
        "#    Use `source' to bring in external R scripts\n",
        "#    Use `edit' to edit an R object\n",
        "#    Use 'environment' to segregate a collection of objects\n",
        "#    Functions `debug', `trace' and `browser' assist with code testing\n",
        "#    Function 'process.events' allows low-level handling of R commands\n",
        "library(help = 'utils')\n",
        "\n",
        "# Loops:  for( i in 1:100) { ... }\n",
        "# Program flow control:  if/else, ifelse, switch, while, repeat, next, break, stop\n",
        "foo <- 2\n",
        "if(foo == 1) cat('Hello world!') else cat('Do nothing')\n",
        "for(i in 1:10) { cat(' Num = ', i, '\\n') }\n",
        "\n",
        "# Graphics and devices in base R (other packages in CRAN)\n",
        "library(help='graphics')\n",
        "library(help='grDevices')\n",
        "\n",
        "# Parallel computing control in base R \n",
        "# CRAN has dozens of other high performance computing packages\n",
        "library(help='parallel')\n",
        "\n",
        "# Run an R script residing on disk\n",
        "help(source)\n",
        "\n",
        "# Save R objects (or your full environment) onto disk\n",
        "help(save) ; help(load)\n",
        "\n",
        "# Save or load history of R commands\n",
        "help(savehistory)  ;  help(loadhistory)\n",
        "\n",
        "# Connections, pipes, sockets, URLs, clipboard, compression, etc.\n",
        "help(connections)\n",
        " \n",
        "# Interact with host computer \n",
        "Sys.info()\n",
        "system('ls -l')\n",
        "system.time(fft(seq(0,1,length.out=1000000)))\t# A million fast Fourier transforms\n",
        "\n",
        "# Construct composite strings using 'paste'\n",
        "# Extract postions of a string using `substring'\n",
        "band_ir <- 'J'\n",
        "paste('NGC1068',band_ir,'FITS', sep='.')\n",
        "\n",
        "# FITS format reader/writer\n",
        "install.packages('FITSio') ; library(FITSio)\n",
        "\n",
        "# IDL Astro Library translated into R\n",
        "# install.packages('astrolibR') ; library(astrolibR)\n",
        "\n",
        "# R/CRAN functions are public domain and can be wrapped from Python\n",
        "# programs using package rpy2.  Example:\n",
        "### pip install rpy2\n",
        "### import rpy2\n",
        "### import rpy2.robjects as robjects\n",
        "### R = robjects.r\n",
        "### ranGauss = R.rnorm(100)\n",
        "### print ranGauss\n",
        "\n",
        "# Python code can be wrapped into R using CRAN package 'reticulate' (among others)\n",
        "# R has similar interfaces to many other languages."
      ],
      "execution_count": 45,
      "outputs": [
        {
          "output_type": "display_data",
          "data": {
            "text/html": [
              "<style>\n",
              ".list-inline {list-style: none; margin:0; padding: 0}\n",
              ".list-inline>li {display: inline-block}\n",
              ".list-inline>li:not(:last-child)::after {content: \"\\00b7\"; padding: 0 .5ex}\n",
              "</style>\n",
              "<ol class=list-inline><li>'a'</li><li>'ang'</li><li>'b'</li><li>'b_list'</li><li>'band_ir'</li><li>'bodymass'</li><li>'boot_mean'</li><li>'cens'</li><li>'d'</li><li>'d2'</li><li>'dist'</li><li>'distGR'</li><li>'E.H0'</li><li>'foo'</li><li>'galKM'</li><li>'galLx'</li><li>'H_0'</li><li>'height'</li><li>'high_x1'</li><li>'high_x2'</li><li>'i'</li><li>'lum.dist'</li><li>'mean_results'</li><li>'med'</li><li>'my_list'</li><li>'Omega_Lambda'</li><li>'Omega_m'</li><li>'relation'</li><li>'resample'</li><li>'result'</li><li>'speed.light'</li><li>'trials'</li><li>'vector1'</li><li>'vector2'</li><li>'x'</li><li>'xy'</li><li>'y'</li><li>'z'</li></ol>\n"
            ],
            "text/markdown": "1. 'a'\n2. 'ang'\n3. 'b'\n4. 'b_list'\n5. 'band_ir'\n6. 'bodymass'\n7. 'boot_mean'\n8. 'cens'\n9. 'd'\n10. 'd2'\n11. 'dist'\n12. 'distGR'\n13. 'E.H0'\n14. 'foo'\n15. 'galKM'\n16. 'galLx'\n17. 'H_0'\n18. 'height'\n19. 'high_x1'\n20. 'high_x2'\n21. 'i'\n22. 'lum.dist'\n23. 'mean_results'\n24. 'med'\n25. 'my_list'\n26. 'Omega_Lambda'\n27. 'Omega_m'\n28. 'relation'\n29. 'resample'\n30. 'result'\n31. 'speed.light'\n32. 'trials'\n33. 'vector1'\n34. 'vector2'\n35. 'x'\n36. 'xy'\n37. 'y'\n38. 'z'\n\n\n",
            "text/latex": "\\begin{enumerate*}\n\\item 'a'\n\\item 'ang'\n\\item 'b'\n\\item 'b\\_list'\n\\item 'band\\_ir'\n\\item 'bodymass'\n\\item 'boot\\_mean'\n\\item 'cens'\n\\item 'd'\n\\item 'd2'\n\\item 'dist'\n\\item 'distGR'\n\\item 'E.H0'\n\\item 'foo'\n\\item 'galKM'\n\\item 'galLx'\n\\item 'H\\_0'\n\\item 'height'\n\\item 'high\\_x1'\n\\item 'high\\_x2'\n\\item 'i'\n\\item 'lum.dist'\n\\item 'mean\\_results'\n\\item 'med'\n\\item 'my\\_list'\n\\item 'Omega\\_Lambda'\n\\item 'Omega\\_m'\n\\item 'relation'\n\\item 'resample'\n\\item 'result'\n\\item 'speed.light'\n\\item 'trials'\n\\item 'vector1'\n\\item 'vector2'\n\\item 'x'\n\\item 'xy'\n\\item 'y'\n\\item 'z'\n\\end{enumerate*}\n",
            "text/plain": [
              " [1] \"a\"            \"ang\"          \"b\"            \"b_list\"       \"band_ir\"     \n",
              " [6] \"bodymass\"     \"boot_mean\"    \"cens\"         \"d\"            \"d2\"          \n",
              "[11] \"dist\"         \"distGR\"       \"E.H0\"         \"foo\"          \"galKM\"       \n",
              "[16] \"galLx\"        \"H_0\"          \"height\"       \"high_x1\"      \"high_x2\"     \n",
              "[21] \"i\"            \"lum.dist\"     \"mean_results\" \"med\"          \"my_list\"     \n",
              "[26] \"Omega_Lambda\" \"Omega_m\"      \"relation\"     \"resample\"     \"result\"      \n",
              "[31] \"speed.light\"  \"trials\"       \"vector1\"      \"vector2\"      \"x\"           \n",
              "[36] \"xy\"           \"y\"            \"z\"           "
            ]
          },
          "metadata": {}
        },
        {
          "output_type": "stream",
          "name": "stdout",
          "text": [
            "Do nothing Num =  1 \n",
            " Num =  2 \n",
            " Num =  3 \n",
            " Num =  4 \n",
            " Num =  5 \n",
            " Num =  6 \n",
            " Num =  7 \n",
            " Num =  8 \n",
            " Num =  9 \n",
            " Num =  10 \n"
          ]
        },
        {
          "output_type": "display_data",
          "data": {
            "text/html": [
              "<style>\n",
              ".dl-inline {width: auto; margin:0; padding: 0}\n",
              ".dl-inline>dt, .dl-inline>dd {float: none; width: auto; display: inline-block}\n",
              ".dl-inline>dt::after {content: \":\\0020\"; padding-right: .5ex}\n",
              ".dl-inline>dt:not(:first-of-type) {padding-left: .5ex}\n",
              "</style><dl class=dl-inline><dt>sysname</dt><dd>'Linux'</dd><dt>release</dt><dd>'5.10.133+'</dd><dt>version</dt><dd>'#1 SMP Fri Aug 26 08:44:51 UTC 2022'</dd><dt>nodename</dt><dd>'d8fbc5d0ece9'</dd><dt>machine</dt><dd>'x86_64'</dd><dt>login</dt><dd>'unknown'</dd><dt>user</dt><dd>'root'</dd><dt>effective_user</dt><dd>'root'</dd></dl>\n"
            ],
            "text/markdown": "sysname\n:   'Linux'release\n:   '5.10.133+'version\n:   '#1 SMP Fri Aug 26 08:44:51 UTC 2022'nodename\n:   'd8fbc5d0ece9'machine\n:   'x86_64'login\n:   'unknown'user\n:   'root'effective_user\n:   'root'\n\n",
            "text/latex": "\\begin{description*}\n\\item[sysname] 'Linux'\n\\item[release] '5.10.133+'\n\\item[version] '\\#1 SMP Fri Aug 26 08:44:51 UTC 2022'\n\\item[nodename] 'd8fbc5d0ece9'\n\\item[machine] 'x86\\_64'\n\\item[login] 'unknown'\n\\item[user] 'root'\n\\item[effective\\textbackslash{}\\_user] 'root'\n\\end{description*}\n",
            "text/plain": [
              "                              sysname                               release \n",
              "                              \"Linux\"                           \"5.10.133+\" \n",
              "                              version                              nodename \n",
              "\"#1 SMP Fri Aug 26 08:44:51 UTC 2022\"                        \"d8fbc5d0ece9\" \n",
              "                              machine                                 login \n",
              "                             \"x86_64\"                             \"unknown\" \n",
              "                                 user                        effective_user \n",
              "                               \"root\"                                \"root\" "
            ]
          },
          "metadata": {}
        },
        {
          "output_type": "display_data",
          "data": {
            "text/plain": [
              "   user  system elapsed \n",
              "  0.035   0.005   0.040 "
            ]
          },
          "metadata": {}
        },
        {
          "output_type": "display_data",
          "data": {
            "text/html": [
              "'NGC1068.J.FITS'"
            ],
            "text/markdown": "'NGC1068.J.FITS'",
            "text/latex": "'NGC1068.J.FITS'",
            "text/plain": [
              "[1] \"NGC1068.J.FITS\""
            ]
          },
          "metadata": {}
        },
        {
          "output_type": "stream",
          "name": "stderr",
          "text": [
            "Installing package into ‘/usr/local/lib/R/site-library’\n",
            "(as ‘lib’ is unspecified)\n",
            "\n"
          ]
        }
      ]
    }
  ]
}